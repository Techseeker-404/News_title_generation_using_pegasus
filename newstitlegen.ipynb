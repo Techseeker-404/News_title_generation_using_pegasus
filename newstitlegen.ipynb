{
  "nbformat": 4,
  "nbformat_minor": 0,
  "metadata": {
    "kernelspec": {
      "display_name": "Python 3",
      "language": "python",
      "name": "python3"
    },
    "language_info": {
      "codemirror_mode": {
        "name": "ipython",
        "version": 3
      },
      "file_extension": ".py",
      "mimetype": "text/x-python",
      "name": "python",
      "nbconvert_exporter": "python",
      "pygments_lexer": "ipython3",
      "version": "3.8.5"
    },
    "colab": {
      "name": "newstitlegen.ipynb",
      "provenance": [],
      "collapsed_sections": [
        "8uc-UQph4axK"
      ],
      "include_colab_link": true
    },
    "accelerator": "GPU"
  },
  "cells": [
    {
      "cell_type": "markdown",
      "metadata": {
        "id": "view-in-github",
        "colab_type": "text"
      },
      "source": [
        "<a href=\"https://colab.research.google.com/github/Techseeker-404/News_title_generation_using_pegasus/blob/main/newstitlegen.ipynb\" target=\"_parent\"><img src=\"https://colab.research.google.com/assets/colab-badge.svg\" alt=\"Open In Colab\"/></a>"
      ]
    },
    {
      "cell_type": "markdown",
      "metadata": {
        "id": "Px124w7g4awL"
      },
      "source": [
        "### This project is divided into two sections \n",
        "#### 1) Clustering a particular set of news documents which is already provided\n",
        "#### 2) Generate titles for each cluster."
      ]
    },
    {
      "cell_type": "code",
      "metadata": {
        "id": "PNaylFqS49S_"
      },
      "source": [
        "from google.colab import drive"
      ],
      "execution_count": 108,
      "outputs": []
    },
    {
      "cell_type": "code",
      "metadata": {
        "colab": {
          "base_uri": "https://localhost:8080/"
        },
        "id": "oaoP4Y866qED",
        "outputId": "a701485b-6aa4-4ca7-c69a-e47bc5e2977a"
      },
      "source": [
        "drive.mount('/content/drive')"
      ],
      "execution_count": 109,
      "outputs": [
        {
          "output_type": "stream",
          "text": [
            "Drive already mounted at /content/drive; to attempt to forcibly remount, call drive.mount(\"/content/drive\", force_remount=True).\n"
          ],
          "name": "stdout"
        }
      ]
    },
    {
      "cell_type": "code",
      "metadata": {
        "id": "LJ044rKH4awU"
      },
      "source": [
        "import pandas as pd\n",
        "import re\n",
        "import warnings \n",
        "warnings.filterwarnings(\"ignore\")"
      ],
      "execution_count": 110,
      "outputs": []
    },
    {
      "cell_type": "markdown",
      "metadata": {
        "id": "dMXkQN5e4awY"
      },
      "source": [
        "#### Loading dataset as a dataframe."
      ]
    },
    {
      "cell_type": "code",
      "metadata": {
        "colab": {
          "base_uri": "https://localhost:8080/",
          "height": 206
        },
        "id": "95ftZNPl4awa",
        "outputId": "3cda901d-125b-451a-db69-adb8f2e28825"
      },
      "source": [
        "df = pd.read_csv(\"/content/drive/MyDrive/dataset.csv\")\n",
        "df.head()"
      ],
      "execution_count": 111,
      "outputs": [
        {
          "output_type": "execute_result",
          "data": {
            "text/html": [
              "<div>\n",
              "<style scoped>\n",
              "    .dataframe tbody tr th:only-of-type {\n",
              "        vertical-align: middle;\n",
              "    }\n",
              "\n",
              "    .dataframe tbody tr th {\n",
              "        vertical-align: top;\n",
              "    }\n",
              "\n",
              "    .dataframe thead th {\n",
              "        text-align: right;\n",
              "    }\n",
              "</style>\n",
              "<table border=\"1\" class=\"dataframe\">\n",
              "  <thead>\n",
              "    <tr style=\"text-align: right;\">\n",
              "      <th></th>\n",
              "      <th>Unnamed: 0</th>\n",
              "      <th>Article</th>\n",
              "      <th>Author</th>\n",
              "      <th>Date</th>\n",
              "      <th>Keywords</th>\n",
              "    </tr>\n",
              "  </thead>\n",
              "  <tbody>\n",
              "    <tr>\n",
              "      <th>0</th>\n",
              "      <td>0</td>\n",
              "      <td>SAN JOSE, Calif. â Arm acquired Stream Tec...</td>\n",
              "      <td>Rick Merritt</td>\n",
              "      <td>06.13.2018</td>\n",
              "      <td>4g, Accessories, Cellular, Cloud Computing, Co...</td>\n",
              "    </tr>\n",
              "    <tr>\n",
              "      <th>1</th>\n",
              "      <td>1</td>\n",
              "      <td>SAN FRANCISCO â Semiconductor industry a...</td>\n",
              "      <td>Dylan McGrath</td>\n",
              "      <td>06.18.2018</td>\n",
              "      <td>Automotive, Computers And Peripherals, Consume...</td>\n",
              "    </tr>\n",
              "    <tr>\n",
              "      <th>2</th>\n",
              "      <td>2</td>\n",
              "      <td>Since the dawn of the compute era, the trifec...</td>\n",
              "      <td>EETimes</td>\n",
              "      <td>05.25.2017</td>\n",
              "      <td>Automotive/Transportation, Design Standards, D...</td>\n",
              "    </tr>\n",
              "    <tr>\n",
              "      <th>3</th>\n",
              "      <td>3</td>\n",
              "      <td>SAN JOSE, Calif. â The 3GPP released a set...</td>\n",
              "      <td>Rick Merritt</td>\n",
              "      <td>09.25.2018</td>\n",
              "      <td>5g, Advanced Technology, Analog ICs, Associati...</td>\n",
              "    </tr>\n",
              "    <tr>\n",
              "      <th>4</th>\n",
              "      <td>4</td>\n",
              "      <td>SAN JOSE, Calif. â BrainChip described wha...</td>\n",
              "      <td>Rick Merritt</td>\n",
              "      <td>09.10.2018</td>\n",
              "      <td>Advanced Technology, Communications And Networ...</td>\n",
              "    </tr>\n",
              "  </tbody>\n",
              "</table>\n",
              "</div>"
            ],
            "text/plain": [
              "   Unnamed: 0  ...                                           Keywords\n",
              "0           0  ...  4g, Accessories, Cellular, Cloud Computing, Co...\n",
              "1           1  ...  Automotive, Computers And Peripherals, Consume...\n",
              "2           2  ...  Automotive/Transportation, Design Standards, D...\n",
              "3           3  ...  5g, Advanced Technology, Analog ICs, Associati...\n",
              "4           4  ...  Advanced Technology, Communications And Networ...\n",
              "\n",
              "[5 rows x 5 columns]"
            ]
          },
          "metadata": {
            "tags": []
          },
          "execution_count": 111
        }
      ]
    },
    {
      "cell_type": "code",
      "metadata": {
        "colab": {
          "base_uri": "https://localhost:8080/",
          "height": 158
        },
        "id": "ePduzoab4awg",
        "outputId": "9b1dd1f8-af7f-46ac-bf5d-eb407f74a440"
      },
      "source": [
        "df.loc[0,\"Article\"]"
      ],
      "execution_count": 112,
      "outputs": [
        {
          "output_type": "execute_result",
          "data": {
            "application/vnd.google.colaboratory.intrinsic+json": {
              "type": "string"
            },
            "text/plain": [
              "'  SAN JOSE, Calif. â\\x80\\x94 Arm acquired Stream Technologies (Glasgow) in an effort to grow a business in paid services for devices on the Internet of Things. The move comes as the IoT is still in an early stage but widely seen to have huge potential with services expected to be one of its hottest sectors. Stream, a private company founded in 2000, claims that its connectivity management software and services are used by 770,000 devices carrying 2 terabytes of traffic daily. Though mainly focused on cellular, its offerings are network-agnostic, also supporting LoRa and satellite nets carrying IP and non-IP data. [Sponsored: Learn more about Computer Vision for the Masses] Stream serves a wide variety of applications including asset tracking, smart meters, and the U.K.â\\x80\\x99s National Rail system. Its services include support for billing and the so-called embedded subscriber identity module (eSIM), a software-based cellular ID. Earlier this year, Arm rolled out software that it called Kigen OS to enable eSIM on its cores. Arm will integrate Streamâ\\x80\\x99s products into its nascent Mbed IoT services. Arm did not disclose how much it paid for Stream, the size of Streamâ\\x80\\x99s revenues, or the size of its own nascent IoT services business. The deal is likely one example of how Arm is reaching far beyond the processor core sector that it dominates with encouragement from its new owner, Softbank. Arm already works with IBM to connect IoT deployments to the IBM Watson Cloud and plans other such deals. â\\x80\\x9cWe will build out and monetize cloud services and partner to make an open environment,â\\x80\\x9d said Hima Mukkamala, general manager of Armâ\\x80\\x99s IoT Cloud Services group. Arm is growing a portfolio of IoT services around device connectivity and management. Image: Arm.   IoT services are â\\x80\\x9cthe carrot that everyone chases,â\\x80\\x9d said Christopher Rommel, vice president of embedded research at market watcher VDC Research Group, Inc. Although Rommel hadnâ\\x80\\x99t heard of Stream prior to the acquisition, he was bullish on the deal. â\\x80\\x9cArm is well-positioned for this with its channel in software and tools. The challenge is walking the line between offering its own services and those of partners. It makes sense for them to go after services, but itâ\\x80\\x99s a complex and crowded space.â\\x80\\x9d Armâ\\x80\\x99s effort in IoT software and services started in 2013, when its acquired Sensinode. The startup had software that Arm offered for free as the Mbed OS supporting popular web scripting languages. But users called for better real-time determinism and support for the C language, so Arm reworked Mbed OS around the RTX kernel of Kiel, he said. Since then, Arm has added various services to its portfolio, planting seeds for an IoT market thatâ\\x80\\x99s still in its infancy. One survey showed that most end users are still 1 to 5 years away from deploying IoT. Source: VDC Research.  The overall IoT market is â\\x80\\x9cnot where I would have hoped it would be five years ago â\\x80¦ but there are more rollouts and real work happening; the next level is moving beyond experiments,â\\x80\\x9d said Rommel. â\\x80\\x9cIoT is just beginning to get off the ground,â\\x80\\x9d said Nigel Chadwick, CEO of Stream. â\\x80\\x9cItâ\\x80\\x99s an amazing opportunity going forward.â\\x80\\x9d â\\x80\\x9cWhatâ\\x80\\x99s exciting to us is the volume we see from customers â\\x80¦ Iâ\\x80\\x99m starting to see [deployments] going beyond pilots,â\\x80\\x9d said Mukkamala of Arm. â\\x80\\x9cWe sold 100 billion cores in the last 25 years and expect to sell the next 100 billion in the next five years into things like smart meters, where customers want an end-to-end solution.â\\x80\\x9d â\\x80\\x94 Rick Merritt, Silicon Valley Bureau Chief, EE Times   '"
            ]
          },
          "metadata": {
            "tags": []
          },
          "execution_count": 112
        }
      ]
    },
    {
      "cell_type": "code",
      "metadata": {
        "colab": {
          "base_uri": "https://localhost:8080/"
        },
        "id": "Ad106jSv4awh",
        "outputId": "5c78bada-dc3c-4b82-bffa-7be3094be599"
      },
      "source": [
        "df.info()"
      ],
      "execution_count": 113,
      "outputs": [
        {
          "output_type": "stream",
          "text": [
            "<class 'pandas.core.frame.DataFrame'>\n",
            "RangeIndex: 1000 entries, 0 to 999\n",
            "Data columns (total 5 columns):\n",
            " #   Column      Non-Null Count  Dtype \n",
            "---  ------      --------------  ----- \n",
            " 0   Unnamed: 0  1000 non-null   int64 \n",
            " 1   Article     1000 non-null   object\n",
            " 2   Author      1000 non-null   object\n",
            " 3   Date        1000 non-null   object\n",
            " 4   Keywords    895 non-null    object\n",
            "dtypes: int64(1), object(4)\n",
            "memory usage: 39.2+ KB\n"
          ],
          "name": "stdout"
        }
      ]
    },
    {
      "cell_type": "markdown",
      "metadata": {
        "id": "zIa4v7Fk4awj"
      },
      "source": [
        "### Choosing relevant Features."
      ]
    },
    {
      "cell_type": "code",
      "metadata": {
        "colab": {
          "base_uri": "https://localhost:8080/",
          "height": 87
        },
        "id": "-0tycmQd4awk",
        "outputId": "acae475d-dfce-416d-93fb-23176c32bb27"
      },
      "source": [
        "df.loc[0,\"Keywords\"]"
      ],
      "execution_count": 114,
      "outputs": [
        {
          "output_type": "execute_result",
          "data": {
            "application/vnd.google.colaboratory.intrinsic+json": {
              "type": "string"
            },
            "text/plain": [
              "'4g, Accessories, Cellular, Cloud Computing, Communications And Networking Systems Or Equipment, Computers And Peripherals, Consumer Electronics & Appliances, Design Management, Hardware Development, Integrated Development Environments (ides), Internet Of Things, Microcontroller, Mobile, Open Source, Operating Systems, Peripherals, Programming Languages, Research & Development, Semiconductors, SoC, Software, Wireless, Wireless Networking'"
            ]
          },
          "metadata": {
            "tags": []
          },
          "execution_count": 114
        }
      ]
    },
    {
      "cell_type": "markdown",
      "metadata": {
        "id": "bEKHCXjd4awn"
      },
      "source": [
        "### From the initial analysis it's palpable that Only two feature columns are actually needed i.e , Article and Keyword as they only contain relevant information."
      ]
    },
    {
      "cell_type": "code",
      "metadata": {
        "id": "9aXIwzmW4awq"
      },
      "source": [
        "df.drop([\"Unnamed: 0\",\"Author\",\"Date\"], axis = 1,inplace=True)"
      ],
      "execution_count": 115,
      "outputs": []
    },
    {
      "cell_type": "code",
      "metadata": {
        "colab": {
          "base_uri": "https://localhost:8080/",
          "height": 206
        },
        "id": "1KhVS-On4aws",
        "outputId": "0374cc01-3a8f-48ba-e893-0eda5d8c5db3"
      },
      "source": [
        "# Having a view on head of the dataframe\n",
        "df.head(5)"
      ],
      "execution_count": 116,
      "outputs": [
        {
          "output_type": "execute_result",
          "data": {
            "text/html": [
              "<div>\n",
              "<style scoped>\n",
              "    .dataframe tbody tr th:only-of-type {\n",
              "        vertical-align: middle;\n",
              "    }\n",
              "\n",
              "    .dataframe tbody tr th {\n",
              "        vertical-align: top;\n",
              "    }\n",
              "\n",
              "    .dataframe thead th {\n",
              "        text-align: right;\n",
              "    }\n",
              "</style>\n",
              "<table border=\"1\" class=\"dataframe\">\n",
              "  <thead>\n",
              "    <tr style=\"text-align: right;\">\n",
              "      <th></th>\n",
              "      <th>Article</th>\n",
              "      <th>Keywords</th>\n",
              "    </tr>\n",
              "  </thead>\n",
              "  <tbody>\n",
              "    <tr>\n",
              "      <th>0</th>\n",
              "      <td>SAN JOSE, Calif. â Arm acquired Stream Tec...</td>\n",
              "      <td>4g, Accessories, Cellular, Cloud Computing, Co...</td>\n",
              "    </tr>\n",
              "    <tr>\n",
              "      <th>1</th>\n",
              "      <td>SAN FRANCISCO â Semiconductor industry a...</td>\n",
              "      <td>Automotive, Computers And Peripherals, Consume...</td>\n",
              "    </tr>\n",
              "    <tr>\n",
              "      <th>2</th>\n",
              "      <td>Since the dawn of the compute era, the trifec...</td>\n",
              "      <td>Automotive/Transportation, Design Standards, D...</td>\n",
              "    </tr>\n",
              "    <tr>\n",
              "      <th>3</th>\n",
              "      <td>SAN JOSE, Calif. â The 3GPP released a set...</td>\n",
              "      <td>5g, Advanced Technology, Analog ICs, Associati...</td>\n",
              "    </tr>\n",
              "    <tr>\n",
              "      <th>4</th>\n",
              "      <td>SAN JOSE, Calif. â BrainChip described wha...</td>\n",
              "      <td>Advanced Technology, Communications And Networ...</td>\n",
              "    </tr>\n",
              "  </tbody>\n",
              "</table>\n",
              "</div>"
            ],
            "text/plain": [
              "                                             Article                                           Keywords\n",
              "0    SAN JOSE, Calif. â Arm acquired Stream Tec...  4g, Accessories, Cellular, Cloud Computing, Co...\n",
              "1      SAN FRANCISCO â Semiconductor industry a...  Automotive, Computers And Peripherals, Consume...\n",
              "2   Since the dawn of the compute era, the trifec...  Automotive/Transportation, Design Standards, D...\n",
              "3    SAN JOSE, Calif. â The 3GPP released a set...  5g, Advanced Technology, Analog ICs, Associati...\n",
              "4    SAN JOSE, Calif. â BrainChip described wha...  Advanced Technology, Communications And Networ..."
            ]
          },
          "metadata": {
            "tags": []
          },
          "execution_count": 116
        }
      ]
    },
    {
      "cell_type": "code",
      "metadata": {
        "colab": {
          "base_uri": "https://localhost:8080/",
          "height": 206
        },
        "id": "5OK39Txx4awv",
        "outputId": "9c19343e-7b86-4a56-ae33-ddd2c652f176"
      },
      "source": [
        "# Having a view on tail of the dataframe\n",
        "df.tail(5)"
      ],
      "execution_count": 117,
      "outputs": [
        {
          "output_type": "execute_result",
          "data": {
            "text/html": [
              "<div>\n",
              "<style scoped>\n",
              "    .dataframe tbody tr th:only-of-type {\n",
              "        vertical-align: middle;\n",
              "    }\n",
              "\n",
              "    .dataframe tbody tr th {\n",
              "        vertical-align: top;\n",
              "    }\n",
              "\n",
              "    .dataframe thead th {\n",
              "        text-align: right;\n",
              "    }\n",
              "</style>\n",
              "<table border=\"1\" class=\"dataframe\">\n",
              "  <thead>\n",
              "    <tr style=\"text-align: right;\">\n",
              "      <th></th>\n",
              "      <th>Article</th>\n",
              "      <th>Keywords</th>\n",
              "    </tr>\n",
              "  </thead>\n",
              "  <tbody>\n",
              "    <tr>\n",
              "      <th>995</th>\n",
              "      <td>LONDON â Researchers from the University...</td>\n",
              "      <td>Academia, Computers And Peripherals, Consumer ...</td>\n",
              "    </tr>\n",
              "    <tr>\n",
              "      <th>996</th>\n",
              "      <td>The MIPI Alliance recently released MIPI A-PH...</td>\n",
              "      <td>ADAS, Automotive, Interface, Lidar, Microcontr...</td>\n",
              "    </tr>\n",
              "    <tr>\n",
              "      <th>997</th>\n",
              "      <td>If you didnât go to Las VegasÂ last week...</td>\n",
              "      <td>Associations, Audio, Ces, Commercial, Computer...</td>\n",
              "    </tr>\n",
              "    <tr>\n",
              "      <th>998</th>\n",
              "      <td>SAN JOSE, Calif. â A veteran semiconductor ...</td>\n",
              "      <td>Advanced Technology, Career/Profession, Commun...</td>\n",
              "    </tr>\n",
              "    <tr>\n",
              "      <th>999</th>\n",
              "      <td>Qualcommâs “Automotive Redefined” wasnât ...</td>\n",
              "      <td>ADAS, Automotive, autonomous vehicles</td>\n",
              "    </tr>\n",
              "  </tbody>\n",
              "</table>\n",
              "</div>"
            ],
            "text/plain": [
              "                                               Article                                           Keywords\n",
              "995      LONDON â Researchers from the University...  Academia, Computers And Peripherals, Consumer ...\n",
              "996   The MIPI Alliance recently released MIPI A-PH...  ADAS, Automotive, Interface, Lidar, Microcontr...\n",
              "997      If you didnât go to Las VegasÂ last week...  Associations, Audio, Ces, Commercial, Computer...\n",
              "998   SAN JOSE, Calif. â A veteran semiconductor ...  Advanced Technology, Career/Profession, Commun...\n",
              "999   Qualcommâs “Automotive Redefined” wasnât ...              ADAS, Automotive, autonomous vehicles"
            ]
          },
          "metadata": {
            "tags": []
          },
          "execution_count": 117
        }
      ]
    },
    {
      "cell_type": "code",
      "metadata": {
        "id": "DD3aeUL44awx"
      },
      "source": [
        "\"\"\"\n",
        "combining Article and keywords feature column into one column called \"Document\"\n",
        "\"\"\"\n",
        "df[\"Document\"] = df.Article + df.Keywords"
      ],
      "execution_count": 118,
      "outputs": []
    },
    {
      "cell_type": "code",
      "metadata": {
        "colab": {
          "base_uri": "https://localhost:8080/",
          "height": 158
        },
        "id": "MEfXXMx24aw0",
        "outputId": "0a61acb4-5170-4946-fb74-8d0b165a3b6f"
      },
      "source": [
        "df.loc[0,\"Document\"]"
      ],
      "execution_count": 119,
      "outputs": [
        {
          "output_type": "execute_result",
          "data": {
            "application/vnd.google.colaboratory.intrinsic+json": {
              "type": "string"
            },
            "text/plain": [
              "'  SAN JOSE, Calif. â\\x80\\x94 Arm acquired Stream Technologies (Glasgow) in an effort to grow a business in paid services for devices on the Internet of Things. The move comes as the IoT is still in an early stage but widely seen to have huge potential with services expected to be one of its hottest sectors. Stream, a private company founded in 2000, claims that its connectivity management software and services are used by 770,000 devices carrying 2 terabytes of traffic daily. Though mainly focused on cellular, its offerings are network-agnostic, also supporting LoRa and satellite nets carrying IP and non-IP data. [Sponsored: Learn more about Computer Vision for the Masses] Stream serves a wide variety of applications including asset tracking, smart meters, and the U.K.â\\x80\\x99s National Rail system. Its services include support for billing and the so-called embedded subscriber identity module (eSIM), a software-based cellular ID. Earlier this year, Arm rolled out software that it called Kigen OS to enable eSIM on its cores. Arm will integrate Streamâ\\x80\\x99s products into its nascent Mbed IoT services. Arm did not disclose how much it paid for Stream, the size of Streamâ\\x80\\x99s revenues, or the size of its own nascent IoT services business. The deal is likely one example of how Arm is reaching far beyond the processor core sector that it dominates with encouragement from its new owner, Softbank. Arm already works with IBM to connect IoT deployments to the IBM Watson Cloud and plans other such deals. â\\x80\\x9cWe will build out and monetize cloud services and partner to make an open environment,â\\x80\\x9d said Hima Mukkamala, general manager of Armâ\\x80\\x99s IoT Cloud Services group. Arm is growing a portfolio of IoT services around device connectivity and management. Image: Arm.   IoT services are â\\x80\\x9cthe carrot that everyone chases,â\\x80\\x9d said Christopher Rommel, vice president of embedded research at market watcher VDC Research Group, Inc. Although Rommel hadnâ\\x80\\x99t heard of Stream prior to the acquisition, he was bullish on the deal. â\\x80\\x9cArm is well-positioned for this with its channel in software and tools. The challenge is walking the line between offering its own services and those of partners. It makes sense for them to go after services, but itâ\\x80\\x99s a complex and crowded space.â\\x80\\x9d Armâ\\x80\\x99s effort in IoT software and services started in 2013, when its acquired Sensinode. The startup had software that Arm offered for free as the Mbed OS supporting popular web scripting languages. But users called for better real-time determinism and support for the C language, so Arm reworked Mbed OS around the RTX kernel of Kiel, he said. Since then, Arm has added various services to its portfolio, planting seeds for an IoT market thatâ\\x80\\x99s still in its infancy. One survey showed that most end users are still 1 to 5 years away from deploying IoT. Source: VDC Research.  The overall IoT market is â\\x80\\x9cnot where I would have hoped it would be five years ago â\\x80¦ but there are more rollouts and real work happening; the next level is moving beyond experiments,â\\x80\\x9d said Rommel. â\\x80\\x9cIoT is just beginning to get off the ground,â\\x80\\x9d said Nigel Chadwick, CEO of Stream. â\\x80\\x9cItâ\\x80\\x99s an amazing opportunity going forward.â\\x80\\x9d â\\x80\\x9cWhatâ\\x80\\x99s exciting to us is the volume we see from customers â\\x80¦ Iâ\\x80\\x99m starting to see [deployments] going beyond pilots,â\\x80\\x9d said Mukkamala of Arm. â\\x80\\x9cWe sold 100 billion cores in the last 25 years and expect to sell the next 100 billion in the next five years into things like smart meters, where customers want an end-to-end solution.â\\x80\\x9d â\\x80\\x94 Rick Merritt, Silicon Valley Bureau Chief, EE Times   4g, Accessories, Cellular, Cloud Computing, Communications And Networking Systems Or Equipment, Computers And Peripherals, Consumer Electronics & Appliances, Design Management, Hardware Development, Integrated Development Environments (ides), Internet Of Things, Microcontroller, Mobile, Open Source, Operating Systems, Peripherals, Programming Languages, Research & Development, Semiconductors, SoC, Software, Wireless, Wireless Networking'"
            ]
          },
          "metadata": {
            "tags": []
          },
          "execution_count": 119
        }
      ]
    },
    {
      "cell_type": "code",
      "metadata": {
        "id": "hyCM-P_94aw1"
      },
      "source": [
        "\"\"\"\n",
        "Creating extra dataframe checkpoint, As a contigency section for helping our prototyping task if needed.\n",
        "\"\"\"\n",
        "cols = ['Article', 'Keywords']    # Set columns to combine\n",
        "df['combined'] = df[cols].apply(lambda row: ', '.join(row.values.astype(str)), axis=1)\n",
        "\n",
        "# Define which column is index\n",
        "df_i = df.set_index('combined') \n",
        "\n",
        "# Set the index to None\n",
        "# df_i.index.names = [None] "
      ],
      "execution_count": 120,
      "outputs": []
    },
    {
      "cell_type": "code",
      "metadata": {
        "id": "4b6PF45n4aw2"
      },
      "source": [
        "df_i.drop([\"Article\",\"Keywords\",\"Document\"],axis=1,inplace=True)"
      ],
      "execution_count": 121,
      "outputs": []
    },
    {
      "cell_type": "code",
      "metadata": {
        "id": "gNjq1cT14aw3"
      },
      "source": [
        "### Creating a data cleaning check point.\n",
        "dfComb = df_i"
      ],
      "execution_count": 122,
      "outputs": []
    },
    {
      "cell_type": "markdown",
      "metadata": {
        "id": "iQczukpl4aw3"
      },
      "source": [
        "### Creating a dataframe called \"dfDoc\" which will be a combination Article and Keyword which will be used for the datacjeaning pipeline"
      ]
    },
    {
      "cell_type": "code",
      "metadata": {
        "colab": {
          "base_uri": "https://localhost:8080/"
        },
        "id": "CT45RG2a4aw5",
        "outputId": "addc5c90-5e3b-4610-ebb8-764339eeac41"
      },
      "source": [
        "\n",
        "\n",
        "dfDoc = pd.DataFrame(df[\"Document\"])\n",
        "dfDoc.Document"
      ],
      "execution_count": 123,
      "outputs": [
        {
          "output_type": "execute_result",
          "data": {
            "text/plain": [
              "0        SAN JOSE, Calif. â Arm acquired Stream Tec...\n",
              "1          SAN FRANCISCO â Semiconductor industry a...\n",
              "2       Since the dawn of the compute era, the trifec...\n",
              "3        SAN JOSE, Calif. â The 3GPP released a set...\n",
              "4        SAN JOSE, Calif. â BrainChip described wha...\n",
              "                             ...                        \n",
              "995        LONDON â Researchers from the University...\n",
              "996     The MIPI Alliance recently released MIPI A-PH...\n",
              "997        If you didnât go to Las VegasÂ last week...\n",
              "998     SAN JOSE, Calif. â A veteran semiconductor ...\n",
              "999     Qualcommâs “Automotive Redefined” wasnât ...\n",
              "Name: Document, Length: 1000, dtype: object"
            ]
          },
          "metadata": {
            "tags": []
          },
          "execution_count": 123
        }
      ]
    },
    {
      "cell_type": "code",
      "metadata": {
        "colab": {
          "base_uri": "https://localhost:8080/",
          "height": 158
        },
        "id": "D4xGYdRZ4aw7",
        "outputId": "494a21d2-970f-4c95-e0c0-6ea73008c232"
      },
      "source": [
        "\n",
        "dfDoc.loc[0,\"Document\"]\n"
      ],
      "execution_count": 124,
      "outputs": [
        {
          "output_type": "execute_result",
          "data": {
            "application/vnd.google.colaboratory.intrinsic+json": {
              "type": "string"
            },
            "text/plain": [
              "'  SAN JOSE, Calif. â\\x80\\x94 Arm acquired Stream Technologies (Glasgow) in an effort to grow a business in paid services for devices on the Internet of Things. The move comes as the IoT is still in an early stage but widely seen to have huge potential with services expected to be one of its hottest sectors. Stream, a private company founded in 2000, claims that its connectivity management software and services are used by 770,000 devices carrying 2 terabytes of traffic daily. Though mainly focused on cellular, its offerings are network-agnostic, also supporting LoRa and satellite nets carrying IP and non-IP data. [Sponsored: Learn more about Computer Vision for the Masses] Stream serves a wide variety of applications including asset tracking, smart meters, and the U.K.â\\x80\\x99s National Rail system. Its services include support for billing and the so-called embedded subscriber identity module (eSIM), a software-based cellular ID. Earlier this year, Arm rolled out software that it called Kigen OS to enable eSIM on its cores. Arm will integrate Streamâ\\x80\\x99s products into its nascent Mbed IoT services. Arm did not disclose how much it paid for Stream, the size of Streamâ\\x80\\x99s revenues, or the size of its own nascent IoT services business. The deal is likely one example of how Arm is reaching far beyond the processor core sector that it dominates with encouragement from its new owner, Softbank. Arm already works with IBM to connect IoT deployments to the IBM Watson Cloud and plans other such deals. â\\x80\\x9cWe will build out and monetize cloud services and partner to make an open environment,â\\x80\\x9d said Hima Mukkamala, general manager of Armâ\\x80\\x99s IoT Cloud Services group. Arm is growing a portfolio of IoT services around device connectivity and management. Image: Arm.   IoT services are â\\x80\\x9cthe carrot that everyone chases,â\\x80\\x9d said Christopher Rommel, vice president of embedded research at market watcher VDC Research Group, Inc. Although Rommel hadnâ\\x80\\x99t heard of Stream prior to the acquisition, he was bullish on the deal. â\\x80\\x9cArm is well-positioned for this with its channel in software and tools. The challenge is walking the line between offering its own services and those of partners. It makes sense for them to go after services, but itâ\\x80\\x99s a complex and crowded space.â\\x80\\x9d Armâ\\x80\\x99s effort in IoT software and services started in 2013, when its acquired Sensinode. The startup had software that Arm offered for free as the Mbed OS supporting popular web scripting languages. But users called for better real-time determinism and support for the C language, so Arm reworked Mbed OS around the RTX kernel of Kiel, he said. Since then, Arm has added various services to its portfolio, planting seeds for an IoT market thatâ\\x80\\x99s still in its infancy. One survey showed that most end users are still 1 to 5 years away from deploying IoT. Source: VDC Research.  The overall IoT market is â\\x80\\x9cnot where I would have hoped it would be five years ago â\\x80¦ but there are more rollouts and real work happening; the next level is moving beyond experiments,â\\x80\\x9d said Rommel. â\\x80\\x9cIoT is just beginning to get off the ground,â\\x80\\x9d said Nigel Chadwick, CEO of Stream. â\\x80\\x9cItâ\\x80\\x99s an amazing opportunity going forward.â\\x80\\x9d â\\x80\\x9cWhatâ\\x80\\x99s exciting to us is the volume we see from customers â\\x80¦ Iâ\\x80\\x99m starting to see [deployments] going beyond pilots,â\\x80\\x9d said Mukkamala of Arm. â\\x80\\x9cWe sold 100 billion cores in the last 25 years and expect to sell the next 100 billion in the next five years into things like smart meters, where customers want an end-to-end solution.â\\x80\\x9d â\\x80\\x94 Rick Merritt, Silicon Valley Bureau Chief, EE Times   4g, Accessories, Cellular, Cloud Computing, Communications And Networking Systems Or Equipment, Computers And Peripherals, Consumer Electronics & Appliances, Design Management, Hardware Development, Integrated Development Environments (ides), Internet Of Things, Microcontroller, Mobile, Open Source, Operating Systems, Peripherals, Programming Languages, Research & Development, Semiconductors, SoC, Software, Wireless, Wireless Networking'"
            ]
          },
          "metadata": {
            "tags": []
          },
          "execution_count": 124
        }
      ]
    },
    {
      "cell_type": "code",
      "metadata": {
        "colab": {
          "base_uri": "https://localhost:8080/",
          "height": 424
        },
        "id": "T3-TP37-4aw8",
        "outputId": "3c935cbc-4a5c-4f5d-d343-1d978c392fad"
      },
      "source": [
        "dfDoc.loc[0,\"Document\"]\n",
        "def remove_symbols_low(dfcolumns):\n",
        "    dfcolumns = dfcolumns.str.replace(r'\\W',' ')\n",
        "    dfcolumns = dfcolumns.str.lower()\n",
        "    return dfcolumns\n",
        "dfDoc.Document = remove_symbols_low(dfDoc.Document)\n",
        "dfDoc"
      ],
      "execution_count": 125,
      "outputs": [
        {
          "output_type": "execute_result",
          "data": {
            "text/html": [
              "<div>\n",
              "<style scoped>\n",
              "    .dataframe tbody tr th:only-of-type {\n",
              "        vertical-align: middle;\n",
              "    }\n",
              "\n",
              "    .dataframe tbody tr th {\n",
              "        vertical-align: top;\n",
              "    }\n",
              "\n",
              "    .dataframe thead th {\n",
              "        text-align: right;\n",
              "    }\n",
              "</style>\n",
              "<table border=\"1\" class=\"dataframe\">\n",
              "  <thead>\n",
              "    <tr style=\"text-align: right;\">\n",
              "      <th></th>\n",
              "      <th>Document</th>\n",
              "    </tr>\n",
              "  </thead>\n",
              "  <tbody>\n",
              "    <tr>\n",
              "      <th>0</th>\n",
              "      <td>san jose  calif  â   arm acquired stream tec...</td>\n",
              "    </tr>\n",
              "    <tr>\n",
              "      <th>1</th>\n",
              "      <td>san francisco â   semiconductor industry a...</td>\n",
              "    </tr>\n",
              "    <tr>\n",
              "      <th>2</th>\n",
              "      <td>since the dawn of the compute era  the trifec...</td>\n",
              "    </tr>\n",
              "    <tr>\n",
              "      <th>3</th>\n",
              "      <td>san jose  calif  â   the 3gpp released a set...</td>\n",
              "    </tr>\n",
              "    <tr>\n",
              "      <th>4</th>\n",
              "      <td>san jose  calif  â   brainchip described wha...</td>\n",
              "    </tr>\n",
              "    <tr>\n",
              "      <th>...</th>\n",
              "      <td>...</td>\n",
              "    </tr>\n",
              "    <tr>\n",
              "      <th>995</th>\n",
              "      <td>london â   researchers from the university...</td>\n",
              "    </tr>\n",
              "    <tr>\n",
              "      <th>996</th>\n",
              "      <td>the mipi alliance recently released mipi a ph...</td>\n",
              "    </tr>\n",
              "    <tr>\n",
              "      <th>997</th>\n",
              "      <td>if you didnâ  t go to las vegasâ last week...</td>\n",
              "    </tr>\n",
              "    <tr>\n",
              "      <th>998</th>\n",
              "      <td>san jose  calif  â   a veteran semiconductor ...</td>\n",
              "    </tr>\n",
              "    <tr>\n",
              "      <th>999</th>\n",
              "      <td>qualcommâ  s  automotive redefined  wasnâ  t ...</td>\n",
              "    </tr>\n",
              "  </tbody>\n",
              "</table>\n",
              "<p>1000 rows × 1 columns</p>\n",
              "</div>"
            ],
            "text/plain": [
              "                                              Document\n",
              "0      san jose  calif  â   arm acquired stream tec...\n",
              "1        san francisco â   semiconductor industry a...\n",
              "2     since the dawn of the compute era  the trifec...\n",
              "3      san jose  calif  â   the 3gpp released a set...\n",
              "4      san jose  calif  â   brainchip described wha...\n",
              "..                                                 ...\n",
              "995      london â   researchers from the university...\n",
              "996   the mipi alliance recently released mipi a ph...\n",
              "997      if you didnâ  t go to las vegasâ last week...\n",
              "998   san jose  calif  â   a veteran semiconductor ...\n",
              "999   qualcommâ  s  automotive redefined  wasnâ  t ...\n",
              "\n",
              "[1000 rows x 1 columns]"
            ]
          },
          "metadata": {
            "tags": []
          },
          "execution_count": 125
        }
      ]
    },
    {
      "cell_type": "code",
      "metadata": {
        "id": "234ok-tx4aw_"
      },
      "source": [
        "\"\"\"\n",
        "Converting dataframe series into string type for next level of data preprocessing\n",
        "\"\"\"\n",
        "dfDoc[\"Document\"] = dfDoc[\"Document\"].fillna('').apply(str)\n"
      ],
      "execution_count": 126,
      "outputs": []
    },
    {
      "cell_type": "code",
      "metadata": {
        "colab": {
          "base_uri": "https://localhost:8080/"
        },
        "id": "KBCHH0454aw_",
        "outputId": "deb990ab-3af7-41d1-cbf3-42d05e5e323b"
      },
      "source": [
        "dfDoc.info()"
      ],
      "execution_count": 127,
      "outputs": [
        {
          "output_type": "stream",
          "text": [
            "<class 'pandas.core.frame.DataFrame'>\n",
            "RangeIndex: 1000 entries, 0 to 999\n",
            "Data columns (total 1 columns):\n",
            " #   Column    Non-Null Count  Dtype \n",
            "---  ------    --------------  ----- \n",
            " 0   Document  1000 non-null   object\n",
            "dtypes: object(1)\n",
            "memory usage: 7.9+ KB\n"
          ],
          "name": "stdout"
        }
      ]
    },
    {
      "cell_type": "markdown",
      "metadata": {
        "id": "XXJeMORi4axC"
      },
      "source": [
        "#### Second level of cleaning , Removing digits and converting datatype to Str type."
      ]
    },
    {
      "cell_type": "code",
      "metadata": {
        "id": "Oo8wtDiO4axD"
      },
      "source": [
        "dfDoc.Document = dfDoc.Document.str.replace('\\d+', '')"
      ],
      "execution_count": 128,
      "outputs": []
    },
    {
      "cell_type": "code",
      "metadata": {
        "colab": {
          "base_uri": "https://localhost:8080/",
          "height": 158
        },
        "id": "y5aYzL4L4axF",
        "outputId": "a30ed157-1ab9-4474-c95d-bb5e47fc4d4f"
      },
      "source": [
        "dfDoc.loc[0,\"Document\"]"
      ],
      "execution_count": 129,
      "outputs": [
        {
          "output_type": "execute_result",
          "data": {
            "application/vnd.google.colaboratory.intrinsic+json": {
              "type": "string"
            },
            "text/plain": [
              "'  san jose  calif  â   arm acquired stream technologies  glasgow  in an effort to grow a business in paid services for devices on the internet of things  the move comes as the iot is still in an early stage but widely seen to have huge potential with services expected to be one of its hottest sectors  stream  a private company founded in   claims that its connectivity management software and services are used by   devices carrying  terabytes of traffic daily  though mainly focused on cellular  its offerings are network agnostic  also supporting lora and satellite nets carrying ip and non ip data   sponsored  learn more about computer vision for the masses  stream serves a wide variety of applications including asset tracking  smart meters  and the u k â  s national rail system  its services include support for billing and the so called embedded subscriber identity module  esim   a software based cellular id  earlier this year  arm rolled out software that it called kigen os to enable esim on its cores  arm will integrate streamâ  s products into its nascent mbed iot services  arm did not disclose how much it paid for stream  the size of streamâ  s revenues  or the size of its own nascent iot services business  the deal is likely one example of how arm is reaching far beyond the processor core sector that it dominates with encouragement from its new owner  softbank  arm already works with ibm to connect iot deployments to the ibm watson cloud and plans other such deals  â  we will build out and monetize cloud services and partner to make an open environment â   said hima mukkamala  general manager of armâ  s iot cloud services group  arm is growing a portfolio of iot services around device connectivity and management  image  arm    iot services are â  the carrot that everyone chases â   said christopher rommel  vice president of embedded research at market watcher vdc research group  inc  although rommel hadnâ  t heard of stream prior to the acquisition  he was bullish on the deal  â  arm is well positioned for this with its channel in software and tools  the challenge is walking the line between offering its own services and those of partners  it makes sense for them to go after services  but itâ  s a complex and crowded space â   armâ  s effort in iot software and services started in   when its acquired sensinode  the startup had software that arm offered for free as the mbed os supporting popular web scripting languages  but users called for better real time determinism and support for the c language  so arm reworked mbed os around the rtx kernel of kiel  he said  since then  arm has added various services to its portfolio  planting seeds for an iot market thatâ  s still in its infancy  one survey showed that most end users are still  to  years away from deploying iot  source  vdc research   the overall iot market is â  not where i would have hoped it would be five years ago â   but there are more rollouts and real work happening  the next level is moving beyond experiments â   said rommel  â  iot is just beginning to get off the ground â   said nigel chadwick  ceo of stream  â  itâ  s an amazing opportunity going forward â   â  whatâ  s exciting to us is the volume we see from customers â   iâ  m starting to see  deployments  going beyond pilots â   said mukkamala of arm  â  we sold  billion cores in the last  years and expect to sell the next  billion in the next five years into things like smart meters  where customers want an end to end solution â   â   rick merritt  silicon valley bureau chief  ee times   g  accessories  cellular  cloud computing  communications and networking systems or equipment  computers and peripherals  consumer electronics   appliances  design management  hardware development  integrated development environments  ides   internet of things  microcontroller  mobile  open source  operating systems  peripherals  programming languages  research   development  semiconductors  soc  software  wireless  wireless networking'"
            ]
          },
          "metadata": {
            "tags": []
          },
          "execution_count": 129
        }
      ]
    },
    {
      "cell_type": "markdown",
      "metadata": {
        "id": "Q176hBuG4axG"
      },
      "source": [
        "### Final level of text cleaning and tokenizing words of entire documents also using Regex to select alphabets as a final level measure."
      ]
    },
    {
      "cell_type": "code",
      "metadata": {
        "id": "-Ez37hC24axH"
      },
      "source": [
        "def tokenize_words(data):\n",
        "    data = re.sub('[^a-zA-Z]',' ',data)\n",
        "    data = data.split()\n",
        "    return data\n",
        "wordTokenize = lambda x: tokenize_words(x)"
      ],
      "execution_count": 130,
      "outputs": []
    },
    {
      "cell_type": "code",
      "metadata": {
        "id": "oEr1eNmj4axH"
      },
      "source": [
        "dfDoc.Document = dfDoc.Document.apply(wordTokenize)"
      ],
      "execution_count": 131,
      "outputs": []
    },
    {
      "cell_type": "code",
      "metadata": {
        "colab": {
          "base_uri": "https://localhost:8080/",
          "height": 237
        },
        "id": "yalZqY5D4axJ",
        "outputId": "34cc40ff-2660-44c0-d05f-d075d7d6fa12"
      },
      "source": [
        "dfDoc.head(6)"
      ],
      "execution_count": 132,
      "outputs": [
        {
          "output_type": "execute_result",
          "data": {
            "text/html": [
              "<div>\n",
              "<style scoped>\n",
              "    .dataframe tbody tr th:only-of-type {\n",
              "        vertical-align: middle;\n",
              "    }\n",
              "\n",
              "    .dataframe tbody tr th {\n",
              "        vertical-align: top;\n",
              "    }\n",
              "\n",
              "    .dataframe thead th {\n",
              "        text-align: right;\n",
              "    }\n",
              "</style>\n",
              "<table border=\"1\" class=\"dataframe\">\n",
              "  <thead>\n",
              "    <tr style=\"text-align: right;\">\n",
              "      <th></th>\n",
              "      <th>Document</th>\n",
              "    </tr>\n",
              "  </thead>\n",
              "  <tbody>\n",
              "    <tr>\n",
              "      <th>0</th>\n",
              "      <td>[san, jose, calif, arm, acquired, stream, tech...</td>\n",
              "    </tr>\n",
              "    <tr>\n",
              "      <th>1</th>\n",
              "      <td>[san, francisco, semiconductor, industry, anal...</td>\n",
              "    </tr>\n",
              "    <tr>\n",
              "      <th>2</th>\n",
              "      <td>[since, the, dawn, of, the, compute, era, the,...</td>\n",
              "    </tr>\n",
              "    <tr>\n",
              "      <th>3</th>\n",
              "      <td>[san, jose, calif, the, gpp, released, a, set,...</td>\n",
              "    </tr>\n",
              "    <tr>\n",
              "      <th>4</th>\n",
              "      <td>[san, jose, calif, brainchip, described, what,...</td>\n",
              "    </tr>\n",
              "    <tr>\n",
              "      <th>5</th>\n",
              "      <td>[as, demands, for, machine, learning, grow, so...</td>\n",
              "    </tr>\n",
              "  </tbody>\n",
              "</table>\n",
              "</div>"
            ],
            "text/plain": [
              "                                            Document\n",
              "0  [san, jose, calif, arm, acquired, stream, tech...\n",
              "1  [san, francisco, semiconductor, industry, anal...\n",
              "2  [since, the, dawn, of, the, compute, era, the,...\n",
              "3  [san, jose, calif, the, gpp, released, a, set,...\n",
              "4  [san, jose, calif, brainchip, described, what,...\n",
              "5  [as, demands, for, machine, learning, grow, so..."
            ]
          },
          "metadata": {
            "tags": []
          },
          "execution_count": 132
        }
      ]
    },
    {
      "cell_type": "markdown",
      "metadata": {
        "id": "8uc-UQph4axK"
      },
      "source": [
        "#### =========================================================================================================="
      ]
    },
    {
      "cell_type": "markdown",
      "metadata": {
        "id": "Zb71Jp1z4axK"
      },
      "source": [
        "### Importing important specific natural language libraries."
      ]
    },
    {
      "cell_type": "code",
      "metadata": {
        "id": "6TcEY3y64axL"
      },
      "source": [
        "import nltk\n",
        "from nltk.tokenize import word_tokenize\n",
        "from nltk.corpus import stopwords\n",
        "from nltk.stem.wordnet import WordNetLemmatizer\n",
        "from sklearn.feature_extraction.text import TfidfVectorizer"
      ],
      "execution_count": 133,
      "outputs": []
    },
    {
      "cell_type": "code",
      "metadata": {
        "id": "Rsfl5cib4axL"
      },
      "source": [
        "# Instantiating required API's\n",
        "Wordnetlem = WordNetLemmatizer()\n",
        "tfidfVect = TfidfVectorizer(stop_words=\"english\")"
      ],
      "execution_count": 134,
      "outputs": []
    },
    {
      "cell_type": "code",
      "metadata": {
        "colab": {
          "base_uri": "https://localhost:8080/"
        },
        "id": "2-zoHqc-4axM",
        "outputId": "94fe219f-f8c5-425a-d3f1-7696ceb10838"
      },
      "source": [
        "nltk.download('stopwords')\n",
        "# Removing stop words\n",
        "sw = stopwords.words('english')\n",
        "wordsetexclude = ['asap','gonna','wanna','bro','lit','more','most','far','cheeky',\n",
        "             'uff','ceeya','on','in','and','wow','whoah',\n",
        "              'wooww','astounding','no','yes','km','mile','god','allah','jesus','jesuschrist',\n",
        "             'oh','oh god','etc','damn','needless','fine','http','www','website','dollar','co',\n",
        "             'ltd','unit','union','got','heard','nope','little','us','we','our','almighty',\n",
        "             'might','ought','buy','sell','sent','invite','a','of','the']\n",
        "for i in wordsetexclude:\n",
        "    sw.append(i)\n",
        "def remove_sw(data):\n",
        "    data = [word for word in data if word not in sw]\n",
        "    return data\n",
        "dfDoc.Document = dfDoc.Document.apply(lambda x: remove_sw(x))"
      ],
      "execution_count": 135,
      "outputs": [
        {
          "output_type": "stream",
          "text": [
            "[nltk_data] Downloading package stopwords to /root/nltk_data...\n",
            "[nltk_data]   Package stopwords is already up-to-date!\n"
          ],
          "name": "stdout"
        }
      ]
    },
    {
      "cell_type": "code",
      "metadata": {
        "colab": {
          "base_uri": "https://localhost:8080/",
          "height": 143
        },
        "id": "WZv72KPx4axN",
        "outputId": "8dfafae2-056c-4085-afd8-e495176225f9"
      },
      "source": [
        "dfDoc.tail(3)"
      ],
      "execution_count": 136,
      "outputs": [
        {
          "output_type": "execute_result",
          "data": {
            "text/html": [
              "<div>\n",
              "<style scoped>\n",
              "    .dataframe tbody tr th:only-of-type {\n",
              "        vertical-align: middle;\n",
              "    }\n",
              "\n",
              "    .dataframe tbody tr th {\n",
              "        vertical-align: top;\n",
              "    }\n",
              "\n",
              "    .dataframe thead th {\n",
              "        text-align: right;\n",
              "    }\n",
              "</style>\n",
              "<table border=\"1\" class=\"dataframe\">\n",
              "  <thead>\n",
              "    <tr style=\"text-align: right;\">\n",
              "      <th></th>\n",
              "      <th>Document</th>\n",
              "    </tr>\n",
              "  </thead>\n",
              "  <tbody>\n",
              "    <tr>\n",
              "      <th>997</th>\n",
              "      <td>[go, las, vegas, last, week, ces, shame, well,...</td>\n",
              "    </tr>\n",
              "    <tr>\n",
              "      <th>998</th>\n",
              "      <td>[san, jose, calif, veteran, semiconductor, exe...</td>\n",
              "    </tr>\n",
              "    <tr>\n",
              "      <th>999</th>\n",
              "      <td>[qualcomm, automotive, redefined, event, witne...</td>\n",
              "    </tr>\n",
              "  </tbody>\n",
              "</table>\n",
              "</div>"
            ],
            "text/plain": [
              "                                              Document\n",
              "997  [go, las, vegas, last, week, ces, shame, well,...\n",
              "998  [san, jose, calif, veteran, semiconductor, exe...\n",
              "999  [qualcomm, automotive, redefined, event, witne..."
            ]
          },
          "metadata": {
            "tags": []
          },
          "execution_count": 136
        }
      ]
    },
    {
      "cell_type": "markdown",
      "metadata": {
        "id": "ZmMol27k4axO"
      },
      "source": [
        "\n",
        "\n",
        "\n",
        "#### Now moving onto some intermediate level of feature engineering part in NLP.\n",
        "\n",
        "\n",
        "\n",
        "#### Lemmatization of words to convert it into its root words."
      ]
    },
    {
      "cell_type": "code",
      "metadata": {
        "colab": {
          "base_uri": "https://localhost:8080/"
        },
        "id": "OQfj6l2m4axO",
        "outputId": "0f841b87-7135-41fb-f1d0-4f5401756899"
      },
      "source": [
        "nltk.download('wordnet')\n",
        "def lemmatize(data):\n",
        "    data = [Wordnetlem.lemmatize(word) for word in data]\n",
        "    return data\n",
        "lemmatizWord = lambda x : lemmatize(x)\n",
        "dfDoc.Document = dfDoc.Document.apply(lemmatizWord)"
      ],
      "execution_count": 137,
      "outputs": [
        {
          "output_type": "stream",
          "text": [
            "[nltk_data] Downloading package wordnet to /root/nltk_data...\n",
            "[nltk_data]   Package wordnet is already up-to-date!\n"
          ],
          "name": "stdout"
        }
      ]
    },
    {
      "cell_type": "code",
      "metadata": {
        "colab": {
          "base_uri": "https://localhost:8080/",
          "height": 158
        },
        "id": "WkMZoxHJ4axP",
        "outputId": "12f6761f-15c7-41b0-d624-016c4b0b2ff3"
      },
      "source": [
        "\"\"\"\n",
        "Recombining word tokens back.\n",
        "\"\"\"\n",
        "def joinwords(data):\n",
        "    combined_text = ' '.join(data)\n",
        "    return combined_text\n",
        "combined = lambda x: joinwords(x)\n",
        "dfDoc.Document = dfDoc.Document.apply(combined)\n",
        "dfDoc.loc[0,\"Document\"]"
      ],
      "execution_count": 138,
      "outputs": [
        {
          "output_type": "execute_result",
          "data": {
            "application/vnd.google.colaboratory.intrinsic+json": {
              "type": "string"
            },
            "text/plain": [
              "'san jose calif arm acquired stream technology glasgow effort grow business paid service device internet thing move come iot still early stage widely seen huge potential service expected one hottest sector stream private company founded claim connectivity management software service used device carrying terabyte traffic daily though mainly focused cellular offering network agnostic also supporting lora satellite net carrying ip non ip data sponsored learn computer vision mass stream serf wide variety application including asset tracking smart meter u k national rail system service include support billing called embedded subscriber identity module esim software based cellular id earlier year arm rolled software called kigen o enable esim core arm integrate stream product nascent mbed iot service arm disclose much paid stream size stream revenue size nascent iot service business deal likely one example arm reaching beyond processor core sector dominates encouragement new owner softbank arm already work ibm connect iot deployment ibm watson cloud plan deal build monetize cloud service partner make open environment said hima mukkamala general manager arm iot cloud service group arm growing portfolio iot service around device connectivity management image arm iot service carrot everyone chase said christopher rommel vice president embedded research market watcher vdc research group inc although rommel stream prior acquisition bullish deal arm well positioned channel software tool challenge walking line offering service partner make sense go service complex crowded space arm effort iot software service started acquired sensinode startup software arm offered free mbed o supporting popular web scripting language user called better real time determinism support c language arm reworked mbed o around rtx kernel kiel said since arm added various service portfolio planting seed iot market still infancy one survey showed end user still year away deploying iot source vdc research overall iot market would hoped would five year ago rollouts real work happening next level moving beyond experiment said rommel iot beginning get ground said nigel chadwick ceo stream amazing opportunity going forward exciting volume see customer starting see deployment going beyond pilot said mukkamala arm sold billion core last year expect next billion next five year thing like smart meter customer want end end solution rick merritt silicon valley bureau chief ee time g accessory cellular cloud computing communication networking system equipment computer peripheral consumer electronics appliance design management hardware development integrated development environment ides internet thing microcontroller mobile open source operating system peripheral programming language research development semiconductor soc software wireless wireless networking'"
            ]
          },
          "metadata": {
            "tags": []
          },
          "execution_count": 138
        }
      ]
    },
    {
      "cell_type": "code",
      "metadata": {
        "id": "bJrnrgxY4axQ"
      },
      "source": [
        "# Creating a variable with document column as Unicode type.\n",
        "document = dfDoc.Document.values.astype(\"U\")"
      ],
      "execution_count": 139,
      "outputs": []
    },
    {
      "cell_type": "code",
      "metadata": {
        "colab": {
          "base_uri": "https://localhost:8080/",
          "height": 158
        },
        "id": "W5BfhOYV4axR",
        "outputId": "345b65b9-8316-45d2-8f58-22a81e543975"
      },
      "source": [
        "document[0]"
      ],
      "execution_count": 140,
      "outputs": [
        {
          "output_type": "execute_result",
          "data": {
            "application/vnd.google.colaboratory.intrinsic+json": {
              "type": "string"
            },
            "text/plain": [
              "'san jose calif arm acquired stream technology glasgow effort grow business paid service device internet thing move come iot still early stage widely seen huge potential service expected one hottest sector stream private company founded claim connectivity management software service used device carrying terabyte traffic daily though mainly focused cellular offering network agnostic also supporting lora satellite net carrying ip non ip data sponsored learn computer vision mass stream serf wide variety application including asset tracking smart meter u k national rail system service include support billing called embedded subscriber identity module esim software based cellular id earlier year arm rolled software called kigen o enable esim core arm integrate stream product nascent mbed iot service arm disclose much paid stream size stream revenue size nascent iot service business deal likely one example arm reaching beyond processor core sector dominates encouragement new owner softbank arm already work ibm connect iot deployment ibm watson cloud plan deal build monetize cloud service partner make open environment said hima mukkamala general manager arm iot cloud service group arm growing portfolio iot service around device connectivity management image arm iot service carrot everyone chase said christopher rommel vice president embedded research market watcher vdc research group inc although rommel stream prior acquisition bullish deal arm well positioned channel software tool challenge walking line offering service partner make sense go service complex crowded space arm effort iot software service started acquired sensinode startup software arm offered free mbed o supporting popular web scripting language user called better real time determinism support c language arm reworked mbed o around rtx kernel kiel said since arm added various service portfolio planting seed iot market still infancy one survey showed end user still year away deploying iot source vdc research overall iot market would hoped would five year ago rollouts real work happening next level moving beyond experiment said rommel iot beginning get ground said nigel chadwick ceo stream amazing opportunity going forward exciting volume see customer starting see deployment going beyond pilot said mukkamala arm sold billion core last year expect next billion next five year thing like smart meter customer want end end solution rick merritt silicon valley bureau chief ee time g accessory cellular cloud computing communication networking system equipment computer peripheral consumer electronics appliance design management hardware development integrated development environment ides internet thing microcontroller mobile open source operating system peripheral programming language research development semiconductor soc software wireless wireless networking'"
            ]
          },
          "metadata": {
            "tags": []
          },
          "execution_count": 140
        }
      ]
    },
    {
      "cell_type": "code",
      "metadata": {
        "id": "u3FWau454axS"
      },
      "source": [
        "features = tfidfVect.fit_transform(document)"
      ],
      "execution_count": 141,
      "outputs": []
    },
    {
      "cell_type": "markdown",
      "metadata": {
        "id": "p8J6FcfG4axS"
      },
      "source": [
        "####            \n",
        "\n",
        "\n",
        "\n",
        "\n",
        "\n",
        "\n",
        "### Importing KMeans clustering from scikit learn library to cluster our given document"
      ]
    },
    {
      "cell_type": "code",
      "metadata": {
        "id": "FWSO0ft54axT"
      },
      "source": [
        "from sklearn.cluster import KMeans"
      ],
      "execution_count": 142,
      "outputs": []
    },
    {
      "cell_type": "code",
      "metadata": {
        "id": "bGMR4Jrd4axU"
      },
      "source": [
        "\"\"\"\n",
        "Initially taking 10 clusters.\n",
        "\"\"\"\n",
        "cluster_numbers = 12\n",
        "\n",
        "#Kmeans clustering\n",
        "modelKmeans = KMeans(n_clusters=cluster_numbers, init=\"k-means++\",max_iter=500,n_init=1)\n"
      ],
      "execution_count": 143,
      "outputs": []
    },
    {
      "cell_type": "code",
      "metadata": {
        "colab": {
          "base_uri": "https://localhost:8080/"
        },
        "id": "T6NktzV_4axU",
        "outputId": "1572db7d-9c49-401a-ef62-e87caaf31a65"
      },
      "source": [
        "modelKmeans.fit(features)"
      ],
      "execution_count": 144,
      "outputs": [
        {
          "output_type": "execute_result",
          "data": {
            "text/plain": [
              "KMeans(algorithm='auto', copy_x=True, init='k-means++', max_iter=500,\n",
              "       n_clusters=12, n_init=1, n_jobs=None, precompute_distances='auto',\n",
              "       random_state=None, tol=0.0001, verbose=0)"
            ]
          },
          "metadata": {
            "tags": []
          },
          "execution_count": 144
        }
      ]
    },
    {
      "cell_type": "markdown",
      "metadata": {
        "id": "UCOA8t4N4axV"
      },
      "source": [
        "\n",
        "######   \n",
        "\n",
        "\n",
        "#####   \n",
        "\n",
        "\n",
        "\n",
        "\n",
        "\n",
        "### Creating a new dataset with labels of cluster and Document column which is already a combined column of Article and Keywords"
      ]
    },
    {
      "cell_type": "code",
      "metadata": {
        "id": "WSm7lONu4axW"
      },
      "source": [
        "# Kmeans Cluster\n",
        "df[\"Clusters\"] = modelKmeans.labels_\n"
      ],
      "execution_count": 145,
      "outputs": []
    },
    {
      "cell_type": "code",
      "metadata": {
        "colab": {
          "base_uri": "https://localhost:8080/",
          "height": 771
        },
        "id": "B-p7Ji9Y4axX",
        "outputId": "0ed05571-b2bd-42f4-c7cb-6d73a3c352cf"
      },
      "source": [
        "# Creating a Dataframe called dfclustered which has two clustering labels\n",
        "select_features = [\"Article\",\"Keywords\",\"Clusters\"]\n",
        "dfclustered = df[select_features]\n",
        "dfclustered.tail(23)"
      ],
      "execution_count": 146,
      "outputs": [
        {
          "output_type": "execute_result",
          "data": {
            "text/html": [
              "<div>\n",
              "<style scoped>\n",
              "    .dataframe tbody tr th:only-of-type {\n",
              "        vertical-align: middle;\n",
              "    }\n",
              "\n",
              "    .dataframe tbody tr th {\n",
              "        vertical-align: top;\n",
              "    }\n",
              "\n",
              "    .dataframe thead th {\n",
              "        text-align: right;\n",
              "    }\n",
              "</style>\n",
              "<table border=\"1\" class=\"dataframe\">\n",
              "  <thead>\n",
              "    <tr style=\"text-align: right;\">\n",
              "      <th></th>\n",
              "      <th>Article</th>\n",
              "      <th>Keywords</th>\n",
              "      <th>Clusters</th>\n",
              "    </tr>\n",
              "  </thead>\n",
              "  <tbody>\n",
              "    <tr>\n",
              "      <th>977</th>\n",
              "      <td>Semiconductor and electronics companies are g...</td>\n",
              "      <td>Electronic Instrumentation Or Test, Test &amp; Mea...</td>\n",
              "      <td>2</td>\n",
              "    </tr>\n",
              "    <tr>\n",
              "      <th>978</th>\n",
              "      <td>SAN FRANCISCOâIt has taken far longer and c...</td>\n",
              "      <td>Events, ICs, Research &amp; Development, Semicondu...</td>\n",
              "      <td>2</td>\n",
              "    </tr>\n",
              "    <tr>\n",
              "      <th>979</th>\n",
              "      <td>SAN FRANCISCO â Design starts for artificia...</td>\n",
              "      <td>NaN</td>\n",
              "      <td>2</td>\n",
              "    </tr>\n",
              "    <tr>\n",
              "      <th>980</th>\n",
              "      <td>Iâm heading to Yosemite for a long weekend ...</td>\n",
              "      <td>Analog ICs, Avago Technologies, Communications...</td>\n",
              "      <td>2</td>\n",
              "    </tr>\n",
              "    <tr>\n",
              "      <th>981</th>\n",
              "      <td>TORONTOÂ â Emerging use cases are revealin...</td>\n",
              "      <td>Aerospace, Automotive, Defense, Encryption, Go...</td>\n",
              "      <td>2</td>\n",
              "    </tr>\n",
              "    <tr>\n",
              "      <th>982</th>\n",
              "      <td>Infineonâs sensor brand and family XENSIVTM...</td>\n",
              "      <td>NaN</td>\n",
              "      <td>2</td>\n",
              "    </tr>\n",
              "    <tr>\n",
              "      <th>983</th>\n",
              "      <td>The 3GPP is the organization that has been ma...</td>\n",
              "      <td>Research &amp; Development</td>\n",
              "      <td>2</td>\n",
              "    </tr>\n",
              "    <tr>\n",
              "      <th>984</th>\n",
              "      <td>I was taught engineering in a very traditiona...</td>\n",
              "      <td>Academia, Computers And Peripherals, Industry ...</td>\n",
              "      <td>2</td>\n",
              "    </tr>\n",
              "    <tr>\n",
              "      <th>985</th>\n",
              "      <td>I have a lot of respect for cables and connec...</td>\n",
              "      <td>Connectors/Sockets, EELife, Electronic Instrum...</td>\n",
              "      <td>2</td>\n",
              "    </tr>\n",
              "    <tr>\n",
              "      <th>986</th>\n",
              "      <td>For decades scientists, writers and filmmake...</td>\n",
              "      <td>Advanced Technology, Communications And Networ...</td>\n",
              "      <td>2</td>\n",
              "    </tr>\n",
              "    <tr>\n",
              "      <th>987</th>\n",
              "      <td>TORONTO â The first thing that comes to min...</td>\n",
              "      <td>NaN</td>\n",
              "      <td>2</td>\n",
              "    </tr>\n",
              "    <tr>\n",
              "      <th>988</th>\n",
              "      <td>BARCELONA â Federal Communication Commissi...</td>\n",
              "      <td>5g, Europe, Geography, Legal Issues, Mwc, Wire...</td>\n",
              "      <td>2</td>\n",
              "    </tr>\n",
              "    <tr>\n",
              "      <th>989</th>\n",
              "      <td>As the AI hardware landscape starts to become...</td>\n",
              "      <td>AI, artificial intelligence, Design Tools (EDA...</td>\n",
              "      <td>2</td>\n",
              "    </tr>\n",
              "    <tr>\n",
              "      <th>990</th>\n",
              "      <td>Earlier this year, I had written about a farm...</td>\n",
              "      <td>Computers And Peripherals, Consumer Electronic...</td>\n",
              "      <td>2</td>\n",
              "    </tr>\n",
              "    <tr>\n",
              "      <th>991</th>\n",
              "      <td>Every product goes through four phases: creat...</td>\n",
              "      <td>Automotive, autonomous vehicles, industry 4.0,...</td>\n",
              "      <td>2</td>\n",
              "    </tr>\n",
              "    <tr>\n",
              "      <th>992</th>\n",
              "      <td>SAN JOSE, Calif. â Google and Baidu collab...</td>\n",
              "      <td>Advanced Technology, Asic, Associations, Cloud...</td>\n",
              "      <td>2</td>\n",
              "    </tr>\n",
              "    <tr>\n",
              "      <th>993</th>\n",
              "      <td>PARIS â  Wave Computing has set its sights...</td>\n",
              "      <td>Asic, Cloud Computing, Computers And Periphera...</td>\n",
              "      <td>2</td>\n",
              "    </tr>\n",
              "    <tr>\n",
              "      <th>994</th>\n",
              "      <td>China’s Geely Auto Group will deploy Mobileye...</td>\n",
              "      <td>ADAS, AI, autonomous vehicles, edge AI, Lidar,...</td>\n",
              "      <td>2</td>\n",
              "    </tr>\n",
              "    <tr>\n",
              "      <th>995</th>\n",
              "      <td>LONDON â Researchers from the University...</td>\n",
              "      <td>Academia, Computers And Peripherals, Consumer ...</td>\n",
              "      <td>2</td>\n",
              "    </tr>\n",
              "    <tr>\n",
              "      <th>996</th>\n",
              "      <td>The MIPI Alliance recently released MIPI A-PH...</td>\n",
              "      <td>ADAS, Automotive, Interface, Lidar, Microcontr...</td>\n",
              "      <td>2</td>\n",
              "    </tr>\n",
              "    <tr>\n",
              "      <th>997</th>\n",
              "      <td>If you didnât go to Las VegasÂ last week...</td>\n",
              "      <td>Associations, Audio, Ces, Commercial, Computer...</td>\n",
              "      <td>2</td>\n",
              "    </tr>\n",
              "    <tr>\n",
              "      <th>998</th>\n",
              "      <td>SAN JOSE, Calif. â A veteran semiconductor ...</td>\n",
              "      <td>Advanced Technology, Career/Profession, Commun...</td>\n",
              "      <td>5</td>\n",
              "    </tr>\n",
              "    <tr>\n",
              "      <th>999</th>\n",
              "      <td>Qualcommâs “Automotive Redefined” wasnât ...</td>\n",
              "      <td>ADAS, Automotive, autonomous vehicles</td>\n",
              "      <td>2</td>\n",
              "    </tr>\n",
              "  </tbody>\n",
              "</table>\n",
              "</div>"
            ],
            "text/plain": [
              "                                               Article  ... Clusters\n",
              "977   Semiconductor and electronics companies are g...  ...        2\n",
              "978   SAN FRANCISCOâIt has taken far longer and c...  ...        2\n",
              "979   SAN FRANCISCO â Design starts for artificia...  ...        2\n",
              "980   Iâm heading to Yosemite for a long weekend ...  ...        2\n",
              "981    TORONTOÂ â Emerging use cases are revealin...  ...        2\n",
              "982   Infineonâs sensor brand and family XENSIVTM...  ...        2\n",
              "983   The 3GPP is the organization that has been ma...  ...        2\n",
              "984   I was taught engineering in a very traditiona...  ...        2\n",
              "985   I have a lot of respect for cables and connec...  ...        2\n",
              "986    For decades scientists, writers and filmmake...  ...        2\n",
              "987   TORONTO â The first thing that comes to min...  ...        2\n",
              "988    BARCELONA â Federal Communication Commissi...  ...        2\n",
              "989   As the AI hardware landscape starts to become...  ...        2\n",
              "990   Earlier this year, I had written about a farm...  ...        2\n",
              "991   Every product goes through four phases: creat...  ...        2\n",
              "992    SAN JOSE, Calif. â Google and Baidu collab...  ...        2\n",
              "993    PARIS â  Wave Computing has set its sights...  ...        2\n",
              "994   China’s Geely Auto Group will deploy Mobileye...  ...        2\n",
              "995      LONDON â Researchers from the University...  ...        2\n",
              "996   The MIPI Alliance recently released MIPI A-PH...  ...        2\n",
              "997      If you didnât go to Las VegasÂ last week...  ...        2\n",
              "998   SAN JOSE, Calif. â A veteran semiconductor ...  ...        5\n",
              "999   Qualcommâs “Automotive Redefined” wasnât ...  ...        2\n",
              "\n",
              "[23 rows x 3 columns]"
            ]
          },
          "metadata": {
            "tags": []
          },
          "execution_count": 146
        }
      ]
    },
    {
      "cell_type": "code",
      "metadata": {
        "colab": {
          "base_uri": "https://localhost:8080/"
        },
        "id": "rYIAkazZ4axY",
        "outputId": "815b9437-ab08-4b8c-e0be-2958840ad387"
      },
      "source": [
        "len(dfclustered)"
      ],
      "execution_count": 147,
      "outputs": [
        {
          "output_type": "execute_result",
          "data": {
            "text/plain": [
              "1000"
            ]
          },
          "metadata": {
            "tags": []
          },
          "execution_count": 147
        }
      ]
    },
    {
      "cell_type": "code",
      "metadata": {
        "colab": {
          "base_uri": "https://localhost:8080/"
        },
        "id": "WgXpPscz4axa",
        "outputId": "1befa822-ebbd-4e17-96e5-2c5924d7fa20"
      },
      "source": [
        "modelKmeans.cluster_centers_.argsort()[:,::-1]"
      ],
      "execution_count": 148,
      "outputs": [
        {
          "output_type": "execute_result",
          "data": {
            "text/plain": [
              "array([[  653, 19959,  4313, ..., 13287, 13288,     0],\n",
              "       [17668,  2897, 18239, ..., 13227, 13228,     0],\n",
              "       [15498, 17736, 15875, ..., 12070,  8731,  6068],\n",
              "       ...,\n",
              "       [ 2599,  2533,  3648, ..., 13320, 13321,     0],\n",
              "       [ 5542, 18149, 17696, ..., 13365, 13366,     0],\n",
              "       [ 8421, 18597,  7347, ..., 13322, 13323,     0]])"
            ]
          },
          "metadata": {
            "tags": []
          },
          "execution_count": 148
        }
      ]
    },
    {
      "cell_type": "code",
      "metadata": {
        "id": "KU2Q1QFM4axb"
      },
      "source": [
        "# Finding feature terms on each cluster by checking centroids or central gravity of each cluster.\n",
        "# which will gives the insights about how the machine seives out the feature terms for each clusters \n",
        "# in KMeans clustering.\n",
        "#print(\"Cluster centroids: \\n\")\n",
        "order_centroids = modelKmeans.cluster_centers_.argsort()[:,::-1]\n",
        "terms = tfidfVect.get_feature_names()\n",
        "\n",
        "wordfeatureset = [] # List of word sets\n",
        "clusterset = [] # List of cluster of words.\n",
        "\n",
        "wordfeatures = 200\n",
        "for i in range(cluster_numbers):\n",
        "    #print(\"Cluster %d:\" %i)\n",
        "    for j in order_centroids[i, :wordfeatures]:\n",
        "        #print(\"%s\" %terms[j])\n",
        "        wordfeatureset.append(terms[j])\n",
        "   \n",
        "    clusterset.append(wordfeatureset)\n",
        "    #print(\"----------\")\n"
      ],
      "execution_count": 149,
      "outputs": []
    },
    {
      "cell_type": "code",
      "metadata": {
        "id": "m18gJhJl4axb"
      },
      "source": [
        "# Creating a HashMap out of Labels\n",
        "clustersmap = dict()\n",
        "for i in range(0,cluster_numbers):\n",
        "    #print(i*wordfeatures)\n",
        "    #Mapping cluster list of words to Cluster HashMap\n",
        "    clustersmap[\"Cluster: \"+str(i)] = [clusterset[1][0+i*wordfeatures: wordfeatures+i*wordfeatures]]\n",
        "    \n",
        "    "
      ],
      "execution_count": 150,
      "outputs": []
    },
    {
      "cell_type": "code",
      "metadata": {
        "colab": {
          "base_uri": "https://localhost:8080/",
          "height": 222
        },
        "id": "_cn-iGJY4axd",
        "outputId": "11fcde4c-c1ce-4412-958c-4c7aff459a57"
      },
      "source": [
        "\n",
        "dfclustermap = pd.DataFrame(clustersmap,index=[\"cluster\"])\n",
        "dfclustermap = dfclustermap.iloc[:,0:cluster_numbers]\n",
        "dfclustermap"
      ],
      "execution_count": 151,
      "outputs": [
        {
          "output_type": "execute_result",
          "data": {
            "text/html": [
              "<div>\n",
              "<style scoped>\n",
              "    .dataframe tbody tr th:only-of-type {\n",
              "        vertical-align: middle;\n",
              "    }\n",
              "\n",
              "    .dataframe tbody tr th {\n",
              "        vertical-align: top;\n",
              "    }\n",
              "\n",
              "    .dataframe thead th {\n",
              "        text-align: right;\n",
              "    }\n",
              "</style>\n",
              "<table border=\"1\" class=\"dataframe\">\n",
              "  <thead>\n",
              "    <tr style=\"text-align: right;\">\n",
              "      <th></th>\n",
              "      <th>Cluster: 0</th>\n",
              "      <th>Cluster: 1</th>\n",
              "      <th>Cluster: 2</th>\n",
              "      <th>Cluster: 3</th>\n",
              "      <th>Cluster: 4</th>\n",
              "      <th>Cluster: 5</th>\n",
              "      <th>Cluster: 6</th>\n",
              "      <th>Cluster: 7</th>\n",
              "      <th>Cluster: 8</th>\n",
              "      <th>Cluster: 9</th>\n",
              "      <th>Cluster: 10</th>\n",
              "      <th>Cluster: 11</th>\n",
              "    </tr>\n",
              "  </thead>\n",
              "  <tbody>\n",
              "    <tr>\n",
              "      <th>cluster</th>\n",
              "      <td>[amd, xilinx, deal, center, ai, fpgas, intel, ...</td>\n",
              "      <td>[tariff, china, trade, trump, administration, ...</td>\n",
              "      <td>[said, technology, semiconductor, chip, year, ...</td>\n",
              "      <td>[try, dario, gil, conference, dac, everybody, ...</td>\n",
              "      <td>[fibre, emulex, channel, card, hoogenboom, cre...</td>\n",
              "      <td>[rowen, cadence, underserved, embedded, compan...</td>\n",
              "      <td>[uber, patel, ized, design, bangalore, service...</td>\n",
              "      <td>[aae, safety, arm, cortex, mandyam, lock, auto...</td>\n",
              "      <td>[parameter, tool, design, ml, flow, correlatio...</td>\n",
              "      <td>[cartoon, caption, contest, eeweb, competition...</td>\n",
              "      <td>[eda, tool, tcl, flow, iso, qualification, evi...</td>\n",
              "      <td>[huawei, uk, gear, chinese, mobile, equipment,...</td>\n",
              "    </tr>\n",
              "  </tbody>\n",
              "</table>\n",
              "</div>"
            ],
            "text/plain": [
              "                                                Cluster: 0  ...                                        Cluster: 11\n",
              "cluster  [amd, xilinx, deal, center, ai, fpgas, intel, ...  ...  [huawei, uk, gear, chinese, mobile, equipment,...\n",
              "\n",
              "[1 rows x 12 columns]"
            ]
          },
          "metadata": {
            "tags": []
          },
          "execution_count": 151
        }
      ]
    },
    {
      "cell_type": "code",
      "metadata": {
        "colab": {
          "base_uri": "https://localhost:8080/"
        },
        "id": "nbHhiY914axd",
        "outputId": "edf3b9ff-f14f-4b34-8280-fb1ed076d2f6"
      },
      "source": [
        "\"\"\"\n",
        "Transposed dataframe\n",
        "\"\"\"\n",
        "dfMap = dfclustermap.transpose()\n",
        "dfMap.info()"
      ],
      "execution_count": 152,
      "outputs": [
        {
          "output_type": "stream",
          "text": [
            "<class 'pandas.core.frame.DataFrame'>\n",
            "Index: 12 entries, Cluster: 0 to Cluster: 11\n",
            "Data columns (total 1 columns):\n",
            " #   Column   Non-Null Count  Dtype \n",
            "---  ------   --------------  ----- \n",
            " 0   cluster  12 non-null     object\n",
            "dtypes: object(1)\n",
            "memory usage: 512.0+ bytes\n"
          ],
          "name": "stdout"
        }
      ]
    },
    {
      "cell_type": "code",
      "metadata": {
        "colab": {
          "base_uri": "https://localhost:8080/",
          "height": 426
        },
        "id": "owNri_td4axf",
        "outputId": "15065e68-b916-4e47-a998-fb6ccecfbcfe"
      },
      "source": [
        "dfMap"
      ],
      "execution_count": 153,
      "outputs": [
        {
          "output_type": "execute_result",
          "data": {
            "text/html": [
              "<div>\n",
              "<style scoped>\n",
              "    .dataframe tbody tr th:only-of-type {\n",
              "        vertical-align: middle;\n",
              "    }\n",
              "\n",
              "    .dataframe tbody tr th {\n",
              "        vertical-align: top;\n",
              "    }\n",
              "\n",
              "    .dataframe thead th {\n",
              "        text-align: right;\n",
              "    }\n",
              "</style>\n",
              "<table border=\"1\" class=\"dataframe\">\n",
              "  <thead>\n",
              "    <tr style=\"text-align: right;\">\n",
              "      <th></th>\n",
              "      <th>cluster</th>\n",
              "    </tr>\n",
              "  </thead>\n",
              "  <tbody>\n",
              "    <tr>\n",
              "      <th>Cluster: 0</th>\n",
              "      <td>[amd, xilinx, deal, center, ai, fpgas, intel, ...</td>\n",
              "    </tr>\n",
              "    <tr>\n",
              "      <th>Cluster: 1</th>\n",
              "      <td>[tariff, china, trade, trump, administration, ...</td>\n",
              "    </tr>\n",
              "    <tr>\n",
              "      <th>Cluster: 2</th>\n",
              "      <td>[said, technology, semiconductor, chip, year, ...</td>\n",
              "    </tr>\n",
              "    <tr>\n",
              "      <th>Cluster: 3</th>\n",
              "      <td>[try, dario, gil, conference, dac, everybody, ...</td>\n",
              "    </tr>\n",
              "    <tr>\n",
              "      <th>Cluster: 4</th>\n",
              "      <td>[fibre, emulex, channel, card, hoogenboom, cre...</td>\n",
              "    </tr>\n",
              "    <tr>\n",
              "      <th>Cluster: 5</th>\n",
              "      <td>[rowen, cadence, underserved, embedded, compan...</td>\n",
              "    </tr>\n",
              "    <tr>\n",
              "      <th>Cluster: 6</th>\n",
              "      <td>[uber, patel, ized, design, bangalore, service...</td>\n",
              "    </tr>\n",
              "    <tr>\n",
              "      <th>Cluster: 7</th>\n",
              "      <td>[aae, safety, arm, cortex, mandyam, lock, auto...</td>\n",
              "    </tr>\n",
              "    <tr>\n",
              "      <th>Cluster: 8</th>\n",
              "      <td>[parameter, tool, design, ml, flow, correlatio...</td>\n",
              "    </tr>\n",
              "    <tr>\n",
              "      <th>Cluster: 9</th>\n",
              "      <td>[cartoon, caption, contest, eeweb, competition...</td>\n",
              "    </tr>\n",
              "    <tr>\n",
              "      <th>Cluster: 10</th>\n",
              "      <td>[eda, tool, tcl, flow, iso, qualification, evi...</td>\n",
              "    </tr>\n",
              "    <tr>\n",
              "      <th>Cluster: 11</th>\n",
              "      <td>[huawei, uk, gear, chinese, mobile, equipment,...</td>\n",
              "    </tr>\n",
              "  </tbody>\n",
              "</table>\n",
              "</div>"
            ],
            "text/plain": [
              "                                                       cluster\n",
              "Cluster: 0   [amd, xilinx, deal, center, ai, fpgas, intel, ...\n",
              "Cluster: 1   [tariff, china, trade, trump, administration, ...\n",
              "Cluster: 2   [said, technology, semiconductor, chip, year, ...\n",
              "Cluster: 3   [try, dario, gil, conference, dac, everybody, ...\n",
              "Cluster: 4   [fibre, emulex, channel, card, hoogenboom, cre...\n",
              "Cluster: 5   [rowen, cadence, underserved, embedded, compan...\n",
              "Cluster: 6   [uber, patel, ized, design, bangalore, service...\n",
              "Cluster: 7   [aae, safety, arm, cortex, mandyam, lock, auto...\n",
              "Cluster: 8   [parameter, tool, design, ml, flow, correlatio...\n",
              "Cluster: 9   [cartoon, caption, contest, eeweb, competition...\n",
              "Cluster: 10  [eda, tool, tcl, flow, iso, qualification, evi...\n",
              "Cluster: 11  [huawei, uk, gear, chinese, mobile, equipment,..."
            ]
          },
          "metadata": {
            "tags": []
          },
          "execution_count": 153
        }
      ]
    },
    {
      "cell_type": "code",
      "metadata": {
        "id": "Ytaa9H4r4axf"
      },
      "source": [
        "# Recombining word tokens back into perfect sentences\n",
        "dfMap.cluster = dfMap.cluster.apply(combined)"
      ],
      "execution_count": 154,
      "outputs": []
    },
    {
      "cell_type": "code",
      "metadata": {
        "colab": {
          "base_uri": "https://localhost:8080/",
          "height": 158
        },
        "id": "7_CZLK2h4axf",
        "outputId": "3cad3425-7c7e-4698-cf82-166ea5b35c1d"
      },
      "source": [
        "dfMap.loc[\"Cluster: 1\",\"cluster\"]"
      ],
      "execution_count": 155,
      "outputs": [
        {
          "output_type": "execute_result",
          "data": {
            "application/vnd.google.colaboratory.intrinsic+json": {
              "type": "string"
            },
            "text/plain": [
              "'tariff china trade trump administration chinese war semiconductor product imposed intellectual billion property supply policy tech worth import neuffer sia said list chain uncertainty economy electronics industry morey worker negotiation qualcomm firm technology semi job group deadline component ultimately proposed market whittier wednesday hurting agreement ministry mofcom lewis practice supplier enacted administrative nxp damage manufacturing consumer global acquisition deficit chip thursday tuesday president unfair international economist huawei company good deal imposing tension country representative transfer equipment largest timmons protection action argued risk economic francisco month net outsourcing concern leading discriminatory expressed oppose aerospace year association mollenkopf government relation negative positive week believe american licensing commerce subject responded chipmakers approve export high related force long round analyst ban outbreak blunt computer remain lax automotive donald zte transportation jay including cold heightened san public earlier distributor nearly protect warfare july ceo lobbying vendor century appliance procurement defense world drag business pcbs impact peripheral outcome plan salary st represents imported theft statement john cut announced finding sale nam ic bilateral manufacturer cost lighthizer investigation poll deemed report thing sponsored customer labor despite cause detour protects design initially time april eda added legal recent issue geopolitical chittooran escalation aggressive learn barrier hurt normal accepting'"
            ]
          },
          "metadata": {
            "tags": []
          },
          "execution_count": 155
        }
      ]
    },
    {
      "cell_type": "code",
      "metadata": {
        "colab": {
          "base_uri": "https://localhost:8080/",
          "height": 35
        },
        "id": "k53crUq-4axg",
        "outputId": "b608038f-8e97-43f8-ea90-2badf20448f0"
      },
      "source": [
        "\"\"\"\n",
        "Uncomment and run this cell to view all the clusters specifically.\n",
        "\"\"\"\n",
        "# def printcols(dfcolumns):\n",
        "#     for v,i in enumerate(dfcolumns):\n",
        "#         print(\"cluster: \"+ str(v))\n",
        "#         print(str(i))\n",
        "# printcols(dfMap.cluster)"
      ],
      "execution_count": 156,
      "outputs": [
        {
          "output_type": "execute_result",
          "data": {
            "application/vnd.google.colaboratory.intrinsic+json": {
              "type": "string"
            },
            "text/plain": [
              "'\\nUncomment and run this cell to view all the clusters specifically.\\n'"
            ]
          },
          "metadata": {
            "tags": []
          },
          "execution_count": 156
        }
      ]
    },
    {
      "cell_type": "code",
      "metadata": {
        "colab": {
          "base_uri": "https://localhost:8080/",
          "height": 35
        },
        "id": "Kyhh7RVFDyJQ",
        "outputId": "b1e8f46f-f691-48ca-f4b0-88906ee6fb18"
      },
      "source": [
        "\"\"\"Uncomment this cell if colab environment is not intalled with below mentioned modules\"\"\"\n",
        "\n",
        "# !pip install transformers\n",
        "# !pip install sentencepiece\n",
        "# !pip install sentence-splitter"
      ],
      "execution_count": 157,
      "outputs": [
        {
          "output_type": "execute_result",
          "data": {
            "application/vnd.google.colaboratory.intrinsic+json": {
              "type": "string"
            },
            "text/plain": [
              "'Uncomment this cell if colab environment is not intalled with below mentioned modules'"
            ]
          },
          "metadata": {
            "tags": []
          },
          "execution_count": 157
        }
      ]
    },
    {
      "cell_type": "markdown",
      "metadata": {
        "id": "QM0_WmkkABuz"
      },
      "source": [
        ""
      ]
    },
    {
      "cell_type": "markdown",
      "metadata": {
        "id": "lSfaWbiWAGcJ"
      },
      "source": [
        "##      \n",
        "\n",
        "##  \n",
        "\n",
        "\n",
        "\n",
        "\n",
        "\n",
        "\n",
        "### Generating Titles for Each cluster using pretrained transformers model from 'Hugging Face' Pegasus pretrained model 'google/pegasus-xsum' "
      ]
    },
    {
      "cell_type": "code",
      "metadata": {
        "id": "Eb7CxBY2AQT-"
      },
      "source": [
        "import torch\n",
        "from transformers import PegasusForConditionalGeneration, PegasusTokenizer\n",
        "model_name = 'google/pegasus-xsum'\n",
        "# model_name = 'google/pegasus-cnn_dailymail'\n",
        "torch_device = 'cuda' if torch.cuda.is_available() else 'cpu'\n",
        "tokenizer = PegasusTokenizer.from_pretrained(model_name)\n",
        "model = PegasusForConditionalGeneration.from_pretrained(model_name).to(torch_device)\n",
        "\n"
      ],
      "execution_count": 106,
      "outputs": []
    },
    {
      "cell_type": "code",
      "metadata": {
        "id": "UC1WxKxxA3eW"
      },
      "source": [
        "def get_response(dfColumns):\n",
        "  for index, data in enumerate(dfColumns):\n",
        "    print(\"cluster: \"+ str(index)+\" Title\")\n",
        "    input_text = [str(data)]\n",
        "    batch = tokenizer(input_text,truncation=True,padding='longest',max_length=30, return_tensors=\"pt\").to(torch_device)\n",
        "    translated = model.generate(**batch,max_length=28)\n",
        "    tgt_text = tokenizer.batch_decode(translated, skip_special_tokens=True)\n",
        "    print(tgt_text[0])\n",
        "  # return tgt_text"
      ],
      "execution_count": 107,
      "outputs": []
    },
    {
      "cell_type": "code",
      "metadata": {
        "colab": {
          "base_uri": "https://localhost:8080/"
        },
        "id": "gsGk1oq5CcLU",
        "outputId": "565d90d8-fcac-47b4-a115-0be9fefaeed8"
      },
      "source": [
        "get_response(dfMap.cluster)"
      ],
      "execution_count": 158,
      "outputs": [
        {
          "output_type": "stream",
          "text": [
            "cluster: 0 Title\n",
            "BBC News NI takes a look at some of the top stories from the past 24 hours.\n",
            "cluster: 1 Title\n",
            "US President Donald Trump and Chinese President Xi Jinping have agreed to \"remove all remaining barriers\" to trade between the two countries\n",
            "cluster: 2 Title\n",
            ".\n",
            "cluster: 3 Title\n",
            "The World Economic Forum (WEF) is holding its annual meeting in Davos, Switzerland.\n",
            "cluster: 4 Title\n",
            "fibre emulex channel card hoogenboom crehan market nvme ssds revenue stable storage somewhat\n",
            "cluster: 5 Title\n",
            "BBC News takes a look at some of the key technology stories of the week.\n",
            "cluster: 6 Title\n",
            "A look at some of the top technology stories of the week.\n",
            "cluster: 7 Title\n",
            "BBC News takes a look at how driverless cars are changing the way we drive.\n",
            "cluster: 8 Title\n",
            "A team of researchers at the University of California, Berkeley, has developed a new way to measure the performance of computer chips\n",
            "cluster: 9 Title\n",
            "cartoon caption contest eeweb punchline contest betsy com fun bob winner edn monthly adorned engineer cream oldest scream\n",
            "cluster: 10 Title\n",
            ".\n",
            "cluster: 11 Title\n",
            "China is the world's second largest mobile phone market after the United States.\n"
          ],
          "name": "stdout"
        }
      ]
    },
    {
      "cell_type": "markdown",
      "metadata": {
        "id": "FjFX-zCtGX-R"
      },
      "source": [
        "## Out of 12 clusters finally managed to generate Titles for 10 clusters through abstractive text summarization using pegasus through specific fine tuning and feature engineering we can generate more and accurate titles.\n"
      ]
    },
    {
      "cell_type": "code",
      "metadata": {
        "id": "qQFwga19G0G4"
      },
      "source": [
        ""
      ],
      "execution_count": 158,
      "outputs": []
    }
  ]
}
