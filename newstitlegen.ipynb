{
  "nbformat": 4,
  "nbformat_minor": 0,
  "metadata": {
    "kernelspec": {
      "display_name": "Python 3",
      "language": "python",
      "name": "python3"
    },
    "language_info": {
      "codemirror_mode": {
        "name": "ipython",
        "version": 3
      },
      "file_extension": ".py",
      "mimetype": "text/x-python",
      "name": "python",
      "nbconvert_exporter": "python",
      "pygments_lexer": "ipython3",
      "version": "3.8.5"
    },
    "colab": {
      "name": "newstitlegen.ipynb",
      "provenance": [],
      "collapsed_sections": [
        "8uc-UQph4axK"
      ],
      "include_colab_link": true
    },
    "accelerator": "GPU"
  },
  "cells": [
    {
      "cell_type": "markdown",
      "metadata": {
        "id": "view-in-github",
        "colab_type": "text"
      },
      "source": [
        "<a href=\"https://colab.research.google.com/github/Techseeker-404/News_title_generation_using_pegasus/blob/main/newstitlegen.ipynb\" target=\"_parent\"><img src=\"https://colab.research.google.com/assets/colab-badge.svg\" alt=\"Open In Colab\"/></a>"
      ]
    },
    {
      "cell_type": "markdown",
      "metadata": {
        "id": "Px124w7g4awL"
      },
      "source": [
        "### This project is divided into two sections \n",
        "#### 1) Clustering a particular set of news documents which is already provided\n",
        "#### 2) Generate titles for each cluster."
      ]
    },
    {
      "cell_type": "code",
      "metadata": {
        "id": "PNaylFqS49S_"
      },
      "source": [
        "from google.colab import drive"
      ],
      "execution_count": 89,
      "outputs": []
    },
    {
      "cell_type": "code",
      "metadata": {
        "colab": {
          "base_uri": "https://localhost:8080/"
        },
        "id": "oaoP4Y866qED",
        "outputId": "b5627c59-2723-4f20-883f-0a69e8a18949"
      },
      "source": [
        "drive.mount('/content/drive')"
      ],
      "execution_count": 90,
      "outputs": [
        {
          "output_type": "stream",
          "text": [
            "Drive already mounted at /content/drive; to attempt to forcibly remount, call drive.mount(\"/content/drive\", force_remount=True).\n"
          ],
          "name": "stdout"
        }
      ]
    },
    {
      "cell_type": "code",
      "metadata": {
        "id": "LJ044rKH4awU"
      },
      "source": [
        "import pandas as pd\n",
        "import re\n",
        "import warnings \n",
        "warnings.filterwarnings(\"ignore\")"
      ],
      "execution_count": 91,
      "outputs": []
    },
    {
      "cell_type": "markdown",
      "metadata": {
        "id": "dMXkQN5e4awY"
      },
      "source": [
        "#### Loading dataset as a dataframe."
      ]
    },
    {
      "cell_type": "code",
      "metadata": {
        "colab": {
          "base_uri": "https://localhost:8080/",
          "height": 206
        },
        "id": "95ftZNPl4awa",
        "outputId": "cfc284f1-4829-4e84-e3d9-98e6e3c48d1a"
      },
      "source": [
        "df = pd.read_csv(\"/content/drive/MyDrive/dataset.csv\")\n",
        "df.head()"
      ],
      "execution_count": 92,
      "outputs": [
        {
          "output_type": "execute_result",
          "data": {
            "text/html": [
              "<div>\n",
              "<style scoped>\n",
              "    .dataframe tbody tr th:only-of-type {\n",
              "        vertical-align: middle;\n",
              "    }\n",
              "\n",
              "    .dataframe tbody tr th {\n",
              "        vertical-align: top;\n",
              "    }\n",
              "\n",
              "    .dataframe thead th {\n",
              "        text-align: right;\n",
              "    }\n",
              "</style>\n",
              "<table border=\"1\" class=\"dataframe\">\n",
              "  <thead>\n",
              "    <tr style=\"text-align: right;\">\n",
              "      <th></th>\n",
              "      <th>Unnamed: 0</th>\n",
              "      <th>Article</th>\n",
              "      <th>Author</th>\n",
              "      <th>Date</th>\n",
              "      <th>Keywords</th>\n",
              "    </tr>\n",
              "  </thead>\n",
              "  <tbody>\n",
              "    <tr>\n",
              "      <th>0</th>\n",
              "      <td>0</td>\n",
              "      <td>SAN JOSE, Calif. â Arm acquired Stream Tec...</td>\n",
              "      <td>Rick Merritt</td>\n",
              "      <td>06.13.2018</td>\n",
              "      <td>4g, Accessories, Cellular, Cloud Computing, Co...</td>\n",
              "    </tr>\n",
              "    <tr>\n",
              "      <th>1</th>\n",
              "      <td>1</td>\n",
              "      <td>SAN FRANCISCO â Semiconductor industry a...</td>\n",
              "      <td>Dylan McGrath</td>\n",
              "      <td>06.18.2018</td>\n",
              "      <td>Automotive, Computers And Peripherals, Consume...</td>\n",
              "    </tr>\n",
              "    <tr>\n",
              "      <th>2</th>\n",
              "      <td>2</td>\n",
              "      <td>Since the dawn of the compute era, the trifec...</td>\n",
              "      <td>EETimes</td>\n",
              "      <td>05.25.2017</td>\n",
              "      <td>Automotive/Transportation, Design Standards, D...</td>\n",
              "    </tr>\n",
              "    <tr>\n",
              "      <th>3</th>\n",
              "      <td>3</td>\n",
              "      <td>SAN JOSE, Calif. â The 3GPP released a set...</td>\n",
              "      <td>Rick Merritt</td>\n",
              "      <td>09.25.2018</td>\n",
              "      <td>5g, Advanced Technology, Analog ICs, Associati...</td>\n",
              "    </tr>\n",
              "    <tr>\n",
              "      <th>4</th>\n",
              "      <td>4</td>\n",
              "      <td>SAN JOSE, Calif. â BrainChip described wha...</td>\n",
              "      <td>Rick Merritt</td>\n",
              "      <td>09.10.2018</td>\n",
              "      <td>Advanced Technology, Communications And Networ...</td>\n",
              "    </tr>\n",
              "  </tbody>\n",
              "</table>\n",
              "</div>"
            ],
            "text/plain": [
              "   Unnamed: 0  ...                                           Keywords\n",
              "0           0  ...  4g, Accessories, Cellular, Cloud Computing, Co...\n",
              "1           1  ...  Automotive, Computers And Peripherals, Consume...\n",
              "2           2  ...  Automotive/Transportation, Design Standards, D...\n",
              "3           3  ...  5g, Advanced Technology, Analog ICs, Associati...\n",
              "4           4  ...  Advanced Technology, Communications And Networ...\n",
              "\n",
              "[5 rows x 5 columns]"
            ]
          },
          "metadata": {
            "tags": []
          },
          "execution_count": 92
        }
      ]
    },
    {
      "cell_type": "code",
      "metadata": {
        "colab": {
          "base_uri": "https://localhost:8080/",
          "height": 158
        },
        "id": "ePduzoab4awg",
        "outputId": "4d54b0c1-6204-4db2-e5b8-ed07b49fc809"
      },
      "source": [
        "df.loc[0,\"Article\"]"
      ],
      "execution_count": 93,
      "outputs": [
        {
          "output_type": "execute_result",
          "data": {
            "application/vnd.google.colaboratory.intrinsic+json": {
              "type": "string"
            },
            "text/plain": [
              "'  SAN JOSE, Calif. â\\x80\\x94 Arm acquired Stream Technologies (Glasgow) in an effort to grow a business in paid services for devices on the Internet of Things. The move comes as the IoT is still in an early stage but widely seen to have huge potential with services expected to be one of its hottest sectors. Stream, a private company founded in 2000, claims that its connectivity management software and services are used by 770,000 devices carrying 2 terabytes of traffic daily. Though mainly focused on cellular, its offerings are network-agnostic, also supporting LoRa and satellite nets carrying IP and non-IP data. [Sponsored: Learn more about Computer Vision for the Masses] Stream serves a wide variety of applications including asset tracking, smart meters, and the U.K.â\\x80\\x99s National Rail system. Its services include support for billing and the so-called embedded subscriber identity module (eSIM), a software-based cellular ID. Earlier this year, Arm rolled out software that it called Kigen OS to enable eSIM on its cores. Arm will integrate Streamâ\\x80\\x99s products into its nascent Mbed IoT services. Arm did not disclose how much it paid for Stream, the size of Streamâ\\x80\\x99s revenues, or the size of its own nascent IoT services business. The deal is likely one example of how Arm is reaching far beyond the processor core sector that it dominates with encouragement from its new owner, Softbank. Arm already works with IBM to connect IoT deployments to the IBM Watson Cloud and plans other such deals. â\\x80\\x9cWe will build out and monetize cloud services and partner to make an open environment,â\\x80\\x9d said Hima Mukkamala, general manager of Armâ\\x80\\x99s IoT Cloud Services group. Arm is growing a portfolio of IoT services around device connectivity and management. Image: Arm.   IoT services are â\\x80\\x9cthe carrot that everyone chases,â\\x80\\x9d said Christopher Rommel, vice president of embedded research at market watcher VDC Research Group, Inc. Although Rommel hadnâ\\x80\\x99t heard of Stream prior to the acquisition, he was bullish on the deal. â\\x80\\x9cArm is well-positioned for this with its channel in software and tools. The challenge is walking the line between offering its own services and those of partners. It makes sense for them to go after services, but itâ\\x80\\x99s a complex and crowded space.â\\x80\\x9d Armâ\\x80\\x99s effort in IoT software and services started in 2013, when its acquired Sensinode. The startup had software that Arm offered for free as the Mbed OS supporting popular web scripting languages. But users called for better real-time determinism and support for the C language, so Arm reworked Mbed OS around the RTX kernel of Kiel, he said. Since then, Arm has added various services to its portfolio, planting seeds for an IoT market thatâ\\x80\\x99s still in its infancy. One survey showed that most end users are still 1 to 5 years away from deploying IoT. Source: VDC Research.  The overall IoT market is â\\x80\\x9cnot where I would have hoped it would be five years ago â\\x80¦ but there are more rollouts and real work happening; the next level is moving beyond experiments,â\\x80\\x9d said Rommel. â\\x80\\x9cIoT is just beginning to get off the ground,â\\x80\\x9d said Nigel Chadwick, CEO of Stream. â\\x80\\x9cItâ\\x80\\x99s an amazing opportunity going forward.â\\x80\\x9d â\\x80\\x9cWhatâ\\x80\\x99s exciting to us is the volume we see from customers â\\x80¦ Iâ\\x80\\x99m starting to see [deployments] going beyond pilots,â\\x80\\x9d said Mukkamala of Arm. â\\x80\\x9cWe sold 100 billion cores in the last 25 years and expect to sell the next 100 billion in the next five years into things like smart meters, where customers want an end-to-end solution.â\\x80\\x9d â\\x80\\x94 Rick Merritt, Silicon Valley Bureau Chief, EE Times   '"
            ]
          },
          "metadata": {
            "tags": []
          },
          "execution_count": 93
        }
      ]
    },
    {
      "cell_type": "code",
      "metadata": {
        "colab": {
          "base_uri": "https://localhost:8080/"
        },
        "id": "Ad106jSv4awh",
        "outputId": "31392138-f706-4316-8880-439327d2f869"
      },
      "source": [
        "df.info()"
      ],
      "execution_count": 94,
      "outputs": [
        {
          "output_type": "stream",
          "text": [
            "<class 'pandas.core.frame.DataFrame'>\n",
            "RangeIndex: 1000 entries, 0 to 999\n",
            "Data columns (total 5 columns):\n",
            " #   Column      Non-Null Count  Dtype \n",
            "---  ------      --------------  ----- \n",
            " 0   Unnamed: 0  1000 non-null   int64 \n",
            " 1   Article     1000 non-null   object\n",
            " 2   Author      1000 non-null   object\n",
            " 3   Date        1000 non-null   object\n",
            " 4   Keywords    895 non-null    object\n",
            "dtypes: int64(1), object(4)\n",
            "memory usage: 39.2+ KB\n"
          ],
          "name": "stdout"
        }
      ]
    },
    {
      "cell_type": "markdown",
      "metadata": {
        "id": "zIa4v7Fk4awj"
      },
      "source": [
        "### Choosing relevant Features."
      ]
    },
    {
      "cell_type": "code",
      "metadata": {
        "colab": {
          "base_uri": "https://localhost:8080/",
          "height": 87
        },
        "id": "-0tycmQd4awk",
        "outputId": "9923c7fb-f706-41bf-81c3-312f9c156ae1"
      },
      "source": [
        "df.loc[0,\"Keywords\"]"
      ],
      "execution_count": 95,
      "outputs": [
        {
          "output_type": "execute_result",
          "data": {
            "application/vnd.google.colaboratory.intrinsic+json": {
              "type": "string"
            },
            "text/plain": [
              "'4g, Accessories, Cellular, Cloud Computing, Communications And Networking Systems Or Equipment, Computers And Peripherals, Consumer Electronics & Appliances, Design Management, Hardware Development, Integrated Development Environments (ides), Internet Of Things, Microcontroller, Mobile, Open Source, Operating Systems, Peripherals, Programming Languages, Research & Development, Semiconductors, SoC, Software, Wireless, Wireless Networking'"
            ]
          },
          "metadata": {
            "tags": []
          },
          "execution_count": 95
        }
      ]
    },
    {
      "cell_type": "markdown",
      "metadata": {
        "id": "bEKHCXjd4awn"
      },
      "source": [
        "### From the initial analysis it's palpable that Only two feature columns are actually needed i.e , Article and Keyword as they only contain relevant information."
      ]
    },
    {
      "cell_type": "code",
      "metadata": {
        "id": "9aXIwzmW4awq"
      },
      "source": [
        "df.drop([\"Unnamed: 0\",\"Author\",\"Date\"], axis = 1,inplace=True)"
      ],
      "execution_count": 96,
      "outputs": []
    },
    {
      "cell_type": "code",
      "metadata": {
        "colab": {
          "base_uri": "https://localhost:8080/",
          "height": 206
        },
        "id": "1KhVS-On4aws",
        "outputId": "eef5423d-8342-40b9-9470-6bb0f1dba53d"
      },
      "source": [
        "# Having a view on head of the dataframe\n",
        "df.head(5)"
      ],
      "execution_count": 97,
      "outputs": [
        {
          "output_type": "execute_result",
          "data": {
            "text/html": [
              "<div>\n",
              "<style scoped>\n",
              "    .dataframe tbody tr th:only-of-type {\n",
              "        vertical-align: middle;\n",
              "    }\n",
              "\n",
              "    .dataframe tbody tr th {\n",
              "        vertical-align: top;\n",
              "    }\n",
              "\n",
              "    .dataframe thead th {\n",
              "        text-align: right;\n",
              "    }\n",
              "</style>\n",
              "<table border=\"1\" class=\"dataframe\">\n",
              "  <thead>\n",
              "    <tr style=\"text-align: right;\">\n",
              "      <th></th>\n",
              "      <th>Article</th>\n",
              "      <th>Keywords</th>\n",
              "    </tr>\n",
              "  </thead>\n",
              "  <tbody>\n",
              "    <tr>\n",
              "      <th>0</th>\n",
              "      <td>SAN JOSE, Calif. â Arm acquired Stream Tec...</td>\n",
              "      <td>4g, Accessories, Cellular, Cloud Computing, Co...</td>\n",
              "    </tr>\n",
              "    <tr>\n",
              "      <th>1</th>\n",
              "      <td>SAN FRANCISCO â Semiconductor industry a...</td>\n",
              "      <td>Automotive, Computers And Peripherals, Consume...</td>\n",
              "    </tr>\n",
              "    <tr>\n",
              "      <th>2</th>\n",
              "      <td>Since the dawn of the compute era, the trifec...</td>\n",
              "      <td>Automotive/Transportation, Design Standards, D...</td>\n",
              "    </tr>\n",
              "    <tr>\n",
              "      <th>3</th>\n",
              "      <td>SAN JOSE, Calif. â The 3GPP released a set...</td>\n",
              "      <td>5g, Advanced Technology, Analog ICs, Associati...</td>\n",
              "    </tr>\n",
              "    <tr>\n",
              "      <th>4</th>\n",
              "      <td>SAN JOSE, Calif. â BrainChip described wha...</td>\n",
              "      <td>Advanced Technology, Communications And Networ...</td>\n",
              "    </tr>\n",
              "  </tbody>\n",
              "</table>\n",
              "</div>"
            ],
            "text/plain": [
              "                                             Article                                           Keywords\n",
              "0    SAN JOSE, Calif. â Arm acquired Stream Tec...  4g, Accessories, Cellular, Cloud Computing, Co...\n",
              "1      SAN FRANCISCO â Semiconductor industry a...  Automotive, Computers And Peripherals, Consume...\n",
              "2   Since the dawn of the compute era, the trifec...  Automotive/Transportation, Design Standards, D...\n",
              "3    SAN JOSE, Calif. â The 3GPP released a set...  5g, Advanced Technology, Analog ICs, Associati...\n",
              "4    SAN JOSE, Calif. â BrainChip described wha...  Advanced Technology, Communications And Networ..."
            ]
          },
          "metadata": {
            "tags": []
          },
          "execution_count": 97
        }
      ]
    },
    {
      "cell_type": "code",
      "metadata": {
        "colab": {
          "base_uri": "https://localhost:8080/",
          "height": 206
        },
        "id": "5OK39Txx4awv",
        "outputId": "3c31c412-8e3a-457a-cf6c-b12d077d539f"
      },
      "source": [
        "# Having a view on tail of the dataframe\n",
        "df.tail(5)"
      ],
      "execution_count": 98,
      "outputs": [
        {
          "output_type": "execute_result",
          "data": {
            "text/html": [
              "<div>\n",
              "<style scoped>\n",
              "    .dataframe tbody tr th:only-of-type {\n",
              "        vertical-align: middle;\n",
              "    }\n",
              "\n",
              "    .dataframe tbody tr th {\n",
              "        vertical-align: top;\n",
              "    }\n",
              "\n",
              "    .dataframe thead th {\n",
              "        text-align: right;\n",
              "    }\n",
              "</style>\n",
              "<table border=\"1\" class=\"dataframe\">\n",
              "  <thead>\n",
              "    <tr style=\"text-align: right;\">\n",
              "      <th></th>\n",
              "      <th>Article</th>\n",
              "      <th>Keywords</th>\n",
              "    </tr>\n",
              "  </thead>\n",
              "  <tbody>\n",
              "    <tr>\n",
              "      <th>995</th>\n",
              "      <td>LONDON â Researchers from the University...</td>\n",
              "      <td>Academia, Computers And Peripherals, Consumer ...</td>\n",
              "    </tr>\n",
              "    <tr>\n",
              "      <th>996</th>\n",
              "      <td>The MIPI Alliance recently released MIPI A-PH...</td>\n",
              "      <td>ADAS, Automotive, Interface, Lidar, Microcontr...</td>\n",
              "    </tr>\n",
              "    <tr>\n",
              "      <th>997</th>\n",
              "      <td>If you didnât go to Las VegasÂ last week...</td>\n",
              "      <td>Associations, Audio, Ces, Commercial, Computer...</td>\n",
              "    </tr>\n",
              "    <tr>\n",
              "      <th>998</th>\n",
              "      <td>SAN JOSE, Calif. â A veteran semiconductor ...</td>\n",
              "      <td>Advanced Technology, Career/Profession, Commun...</td>\n",
              "    </tr>\n",
              "    <tr>\n",
              "      <th>999</th>\n",
              "      <td>Qualcommâs “Automotive Redefined” wasnât ...</td>\n",
              "      <td>ADAS, Automotive, autonomous vehicles</td>\n",
              "    </tr>\n",
              "  </tbody>\n",
              "</table>\n",
              "</div>"
            ],
            "text/plain": [
              "                                               Article                                           Keywords\n",
              "995      LONDON â Researchers from the University...  Academia, Computers And Peripherals, Consumer ...\n",
              "996   The MIPI Alliance recently released MIPI A-PH...  ADAS, Automotive, Interface, Lidar, Microcontr...\n",
              "997      If you didnât go to Las VegasÂ last week...  Associations, Audio, Ces, Commercial, Computer...\n",
              "998   SAN JOSE, Calif. â A veteran semiconductor ...  Advanced Technology, Career/Profession, Commun...\n",
              "999   Qualcommâs “Automotive Redefined” wasnât ...              ADAS, Automotive, autonomous vehicles"
            ]
          },
          "metadata": {
            "tags": []
          },
          "execution_count": 98
        }
      ]
    },
    {
      "cell_type": "code",
      "metadata": {
        "id": "DD3aeUL44awx"
      },
      "source": [
        "\"\"\"\n",
        "combining Article and keywords feature column into one column called \"Document\"\n",
        "\"\"\"\n",
        "df[\"Document\"] = df.Article + df.Keywords"
      ],
      "execution_count": 99,
      "outputs": []
    },
    {
      "cell_type": "code",
      "metadata": {
        "colab": {
          "base_uri": "https://localhost:8080/",
          "height": 158
        },
        "id": "MEfXXMx24aw0",
        "outputId": "d57dfcfc-711a-49ff-e973-6bdea522048f"
      },
      "source": [
        "df.loc[0,\"Document\"]"
      ],
      "execution_count": 100,
      "outputs": [
        {
          "output_type": "execute_result",
          "data": {
            "application/vnd.google.colaboratory.intrinsic+json": {
              "type": "string"
            },
            "text/plain": [
              "'  SAN JOSE, Calif. â\\x80\\x94 Arm acquired Stream Technologies (Glasgow) in an effort to grow a business in paid services for devices on the Internet of Things. The move comes as the IoT is still in an early stage but widely seen to have huge potential with services expected to be one of its hottest sectors. Stream, a private company founded in 2000, claims that its connectivity management software and services are used by 770,000 devices carrying 2 terabytes of traffic daily. Though mainly focused on cellular, its offerings are network-agnostic, also supporting LoRa and satellite nets carrying IP and non-IP data. [Sponsored: Learn more about Computer Vision for the Masses] Stream serves a wide variety of applications including asset tracking, smart meters, and the U.K.â\\x80\\x99s National Rail system. Its services include support for billing and the so-called embedded subscriber identity module (eSIM), a software-based cellular ID. Earlier this year, Arm rolled out software that it called Kigen OS to enable eSIM on its cores. Arm will integrate Streamâ\\x80\\x99s products into its nascent Mbed IoT services. Arm did not disclose how much it paid for Stream, the size of Streamâ\\x80\\x99s revenues, or the size of its own nascent IoT services business. The deal is likely one example of how Arm is reaching far beyond the processor core sector that it dominates with encouragement from its new owner, Softbank. Arm already works with IBM to connect IoT deployments to the IBM Watson Cloud and plans other such deals. â\\x80\\x9cWe will build out and monetize cloud services and partner to make an open environment,â\\x80\\x9d said Hima Mukkamala, general manager of Armâ\\x80\\x99s IoT Cloud Services group. Arm is growing a portfolio of IoT services around device connectivity and management. Image: Arm.   IoT services are â\\x80\\x9cthe carrot that everyone chases,â\\x80\\x9d said Christopher Rommel, vice president of embedded research at market watcher VDC Research Group, Inc. Although Rommel hadnâ\\x80\\x99t heard of Stream prior to the acquisition, he was bullish on the deal. â\\x80\\x9cArm is well-positioned for this with its channel in software and tools. The challenge is walking the line between offering its own services and those of partners. It makes sense for them to go after services, but itâ\\x80\\x99s a complex and crowded space.â\\x80\\x9d Armâ\\x80\\x99s effort in IoT software and services started in 2013, when its acquired Sensinode. The startup had software that Arm offered for free as the Mbed OS supporting popular web scripting languages. But users called for better real-time determinism and support for the C language, so Arm reworked Mbed OS around the RTX kernel of Kiel, he said. Since then, Arm has added various services to its portfolio, planting seeds for an IoT market thatâ\\x80\\x99s still in its infancy. One survey showed that most end users are still 1 to 5 years away from deploying IoT. Source: VDC Research.  The overall IoT market is â\\x80\\x9cnot where I would have hoped it would be five years ago â\\x80¦ but there are more rollouts and real work happening; the next level is moving beyond experiments,â\\x80\\x9d said Rommel. â\\x80\\x9cIoT is just beginning to get off the ground,â\\x80\\x9d said Nigel Chadwick, CEO of Stream. â\\x80\\x9cItâ\\x80\\x99s an amazing opportunity going forward.â\\x80\\x9d â\\x80\\x9cWhatâ\\x80\\x99s exciting to us is the volume we see from customers â\\x80¦ Iâ\\x80\\x99m starting to see [deployments] going beyond pilots,â\\x80\\x9d said Mukkamala of Arm. â\\x80\\x9cWe sold 100 billion cores in the last 25 years and expect to sell the next 100 billion in the next five years into things like smart meters, where customers want an end-to-end solution.â\\x80\\x9d â\\x80\\x94 Rick Merritt, Silicon Valley Bureau Chief, EE Times   4g, Accessories, Cellular, Cloud Computing, Communications And Networking Systems Or Equipment, Computers And Peripherals, Consumer Electronics & Appliances, Design Management, Hardware Development, Integrated Development Environments (ides), Internet Of Things, Microcontroller, Mobile, Open Source, Operating Systems, Peripherals, Programming Languages, Research & Development, Semiconductors, SoC, Software, Wireless, Wireless Networking'"
            ]
          },
          "metadata": {
            "tags": []
          },
          "execution_count": 100
        }
      ]
    },
    {
      "cell_type": "code",
      "metadata": {
        "id": "hyCM-P_94aw1"
      },
      "source": [
        "\"\"\"\n",
        "Creating extra dataframe checkpoint, As a contigency section for helping our prototyping task if needed.\n",
        "\"\"\"\n",
        "cols = ['Article', 'Keywords']    # Set columns to combine\n",
        "df['combined'] = df[cols].apply(lambda row: ', '.join(row.values.astype(str)), axis=1)\n",
        "\n",
        "# Define which column is index\n",
        "df_i = df.set_index('combined') \n",
        "\n",
        "# Set the index to None\n",
        "# df_i.index.names = [None] "
      ],
      "execution_count": 101,
      "outputs": []
    },
    {
      "cell_type": "code",
      "metadata": {
        "id": "4b6PF45n4aw2"
      },
      "source": [
        "df_i.drop([\"Article\",\"Keywords\",\"Document\"],axis=1,inplace=True)"
      ],
      "execution_count": 102,
      "outputs": []
    },
    {
      "cell_type": "code",
      "metadata": {
        "id": "gNjq1cT14aw3"
      },
      "source": [
        "### Creating a data cleaning check point.\n",
        "dfComb = df_i"
      ],
      "execution_count": 103,
      "outputs": []
    },
    {
      "cell_type": "markdown",
      "metadata": {
        "id": "iQczukpl4aw3"
      },
      "source": [
        "### Creating a dataframe called \"dfDoc\" which will be a combination Article and Keyword which will be used for the datacjeaning pipeline"
      ]
    },
    {
      "cell_type": "code",
      "metadata": {
        "colab": {
          "base_uri": "https://localhost:8080/"
        },
        "id": "CT45RG2a4aw5",
        "outputId": "bafcf627-c55a-4cdd-a01f-efdd111a23e2"
      },
      "source": [
        "\n",
        "\n",
        "dfDoc = pd.DataFrame(df[\"Document\"])\n",
        "dfDoc.Document"
      ],
      "execution_count": 104,
      "outputs": [
        {
          "output_type": "execute_result",
          "data": {
            "text/plain": [
              "0        SAN JOSE, Calif. â Arm acquired Stream Tec...\n",
              "1          SAN FRANCISCO â Semiconductor industry a...\n",
              "2       Since the dawn of the compute era, the trifec...\n",
              "3        SAN JOSE, Calif. â The 3GPP released a set...\n",
              "4        SAN JOSE, Calif. â BrainChip described wha...\n",
              "                             ...                        \n",
              "995        LONDON â Researchers from the University...\n",
              "996     The MIPI Alliance recently released MIPI A-PH...\n",
              "997        If you didnât go to Las VegasÂ last week...\n",
              "998     SAN JOSE, Calif. â A veteran semiconductor ...\n",
              "999     Qualcommâs “Automotive Redefined” wasnât ...\n",
              "Name: Document, Length: 1000, dtype: object"
            ]
          },
          "metadata": {
            "tags": []
          },
          "execution_count": 104
        }
      ]
    },
    {
      "cell_type": "code",
      "metadata": {
        "colab": {
          "base_uri": "https://localhost:8080/",
          "height": 158
        },
        "id": "D4xGYdRZ4aw7",
        "outputId": "c2cc7bf6-6a93-4bb1-f012-64cf12b6d5e7"
      },
      "source": [
        "\n",
        "dfDoc.loc[0,\"Document\"]\n"
      ],
      "execution_count": 105,
      "outputs": [
        {
          "output_type": "execute_result",
          "data": {
            "application/vnd.google.colaboratory.intrinsic+json": {
              "type": "string"
            },
            "text/plain": [
              "'  SAN JOSE, Calif. â\\x80\\x94 Arm acquired Stream Technologies (Glasgow) in an effort to grow a business in paid services for devices on the Internet of Things. The move comes as the IoT is still in an early stage but widely seen to have huge potential with services expected to be one of its hottest sectors. Stream, a private company founded in 2000, claims that its connectivity management software and services are used by 770,000 devices carrying 2 terabytes of traffic daily. Though mainly focused on cellular, its offerings are network-agnostic, also supporting LoRa and satellite nets carrying IP and non-IP data. [Sponsored: Learn more about Computer Vision for the Masses] Stream serves a wide variety of applications including asset tracking, smart meters, and the U.K.â\\x80\\x99s National Rail system. Its services include support for billing and the so-called embedded subscriber identity module (eSIM), a software-based cellular ID. Earlier this year, Arm rolled out software that it called Kigen OS to enable eSIM on its cores. Arm will integrate Streamâ\\x80\\x99s products into its nascent Mbed IoT services. Arm did not disclose how much it paid for Stream, the size of Streamâ\\x80\\x99s revenues, or the size of its own nascent IoT services business. The deal is likely one example of how Arm is reaching far beyond the processor core sector that it dominates with encouragement from its new owner, Softbank. Arm already works with IBM to connect IoT deployments to the IBM Watson Cloud and plans other such deals. â\\x80\\x9cWe will build out and monetize cloud services and partner to make an open environment,â\\x80\\x9d said Hima Mukkamala, general manager of Armâ\\x80\\x99s IoT Cloud Services group. Arm is growing a portfolio of IoT services around device connectivity and management. Image: Arm.   IoT services are â\\x80\\x9cthe carrot that everyone chases,â\\x80\\x9d said Christopher Rommel, vice president of embedded research at market watcher VDC Research Group, Inc. Although Rommel hadnâ\\x80\\x99t heard of Stream prior to the acquisition, he was bullish on the deal. â\\x80\\x9cArm is well-positioned for this with its channel in software and tools. The challenge is walking the line between offering its own services and those of partners. It makes sense for them to go after services, but itâ\\x80\\x99s a complex and crowded space.â\\x80\\x9d Armâ\\x80\\x99s effort in IoT software and services started in 2013, when its acquired Sensinode. The startup had software that Arm offered for free as the Mbed OS supporting popular web scripting languages. But users called for better real-time determinism and support for the C language, so Arm reworked Mbed OS around the RTX kernel of Kiel, he said. Since then, Arm has added various services to its portfolio, planting seeds for an IoT market thatâ\\x80\\x99s still in its infancy. One survey showed that most end users are still 1 to 5 years away from deploying IoT. Source: VDC Research.  The overall IoT market is â\\x80\\x9cnot where I would have hoped it would be five years ago â\\x80¦ but there are more rollouts and real work happening; the next level is moving beyond experiments,â\\x80\\x9d said Rommel. â\\x80\\x9cIoT is just beginning to get off the ground,â\\x80\\x9d said Nigel Chadwick, CEO of Stream. â\\x80\\x9cItâ\\x80\\x99s an amazing opportunity going forward.â\\x80\\x9d â\\x80\\x9cWhatâ\\x80\\x99s exciting to us is the volume we see from customers â\\x80¦ Iâ\\x80\\x99m starting to see [deployments] going beyond pilots,â\\x80\\x9d said Mukkamala of Arm. â\\x80\\x9cWe sold 100 billion cores in the last 25 years and expect to sell the next 100 billion in the next five years into things like smart meters, where customers want an end-to-end solution.â\\x80\\x9d â\\x80\\x94 Rick Merritt, Silicon Valley Bureau Chief, EE Times   4g, Accessories, Cellular, Cloud Computing, Communications And Networking Systems Or Equipment, Computers And Peripherals, Consumer Electronics & Appliances, Design Management, Hardware Development, Integrated Development Environments (ides), Internet Of Things, Microcontroller, Mobile, Open Source, Operating Systems, Peripherals, Programming Languages, Research & Development, Semiconductors, SoC, Software, Wireless, Wireless Networking'"
            ]
          },
          "metadata": {
            "tags": []
          },
          "execution_count": 105
        }
      ]
    },
    {
      "cell_type": "code",
      "metadata": {
        "colab": {
          "base_uri": "https://localhost:8080/",
          "height": 424
        },
        "id": "T3-TP37-4aw8",
        "outputId": "14a2fa46-efa3-4168-ad92-9e12410c3391"
      },
      "source": [
        "dfDoc.loc[0,\"Document\"]\n",
        "def remove_symbols_low(dfcolumns):\n",
        "    dfcolumns = dfcolumns.str.replace(r'\\W',' ')\n",
        "    dfcolumns = dfcolumns.str.lower()\n",
        "    return dfcolumns\n",
        "dfDoc.Document = remove_symbols_low(dfDoc.Document)\n",
        "dfDoc"
      ],
      "execution_count": 106,
      "outputs": [
        {
          "output_type": "execute_result",
          "data": {
            "text/html": [
              "<div>\n",
              "<style scoped>\n",
              "    .dataframe tbody tr th:only-of-type {\n",
              "        vertical-align: middle;\n",
              "    }\n",
              "\n",
              "    .dataframe tbody tr th {\n",
              "        vertical-align: top;\n",
              "    }\n",
              "\n",
              "    .dataframe thead th {\n",
              "        text-align: right;\n",
              "    }\n",
              "</style>\n",
              "<table border=\"1\" class=\"dataframe\">\n",
              "  <thead>\n",
              "    <tr style=\"text-align: right;\">\n",
              "      <th></th>\n",
              "      <th>Document</th>\n",
              "    </tr>\n",
              "  </thead>\n",
              "  <tbody>\n",
              "    <tr>\n",
              "      <th>0</th>\n",
              "      <td>san jose  calif  â   arm acquired stream tec...</td>\n",
              "    </tr>\n",
              "    <tr>\n",
              "      <th>1</th>\n",
              "      <td>san francisco â   semiconductor industry a...</td>\n",
              "    </tr>\n",
              "    <tr>\n",
              "      <th>2</th>\n",
              "      <td>since the dawn of the compute era  the trifec...</td>\n",
              "    </tr>\n",
              "    <tr>\n",
              "      <th>3</th>\n",
              "      <td>san jose  calif  â   the 3gpp released a set...</td>\n",
              "    </tr>\n",
              "    <tr>\n",
              "      <th>4</th>\n",
              "      <td>san jose  calif  â   brainchip described wha...</td>\n",
              "    </tr>\n",
              "    <tr>\n",
              "      <th>...</th>\n",
              "      <td>...</td>\n",
              "    </tr>\n",
              "    <tr>\n",
              "      <th>995</th>\n",
              "      <td>london â   researchers from the university...</td>\n",
              "    </tr>\n",
              "    <tr>\n",
              "      <th>996</th>\n",
              "      <td>the mipi alliance recently released mipi a ph...</td>\n",
              "    </tr>\n",
              "    <tr>\n",
              "      <th>997</th>\n",
              "      <td>if you didnâ  t go to las vegasâ last week...</td>\n",
              "    </tr>\n",
              "    <tr>\n",
              "      <th>998</th>\n",
              "      <td>san jose  calif  â   a veteran semiconductor ...</td>\n",
              "    </tr>\n",
              "    <tr>\n",
              "      <th>999</th>\n",
              "      <td>qualcommâ  s  automotive redefined  wasnâ  t ...</td>\n",
              "    </tr>\n",
              "  </tbody>\n",
              "</table>\n",
              "<p>1000 rows × 1 columns</p>\n",
              "</div>"
            ],
            "text/plain": [
              "                                              Document\n",
              "0      san jose  calif  â   arm acquired stream tec...\n",
              "1        san francisco â   semiconductor industry a...\n",
              "2     since the dawn of the compute era  the trifec...\n",
              "3      san jose  calif  â   the 3gpp released a set...\n",
              "4      san jose  calif  â   brainchip described wha...\n",
              "..                                                 ...\n",
              "995      london â   researchers from the university...\n",
              "996   the mipi alliance recently released mipi a ph...\n",
              "997      if you didnâ  t go to las vegasâ last week...\n",
              "998   san jose  calif  â   a veteran semiconductor ...\n",
              "999   qualcommâ  s  automotive redefined  wasnâ  t ...\n",
              "\n",
              "[1000 rows x 1 columns]"
            ]
          },
          "metadata": {
            "tags": []
          },
          "execution_count": 106
        }
      ]
    },
    {
      "cell_type": "code",
      "metadata": {
        "id": "234ok-tx4aw_"
      },
      "source": [
        "\"\"\"\n",
        "Converting dataframe series into string type for next level of data preprocessing\n",
        "\"\"\"\n",
        "dfDoc[\"Document\"] = dfDoc[\"Document\"].fillna('').apply(str)\n"
      ],
      "execution_count": 107,
      "outputs": []
    },
    {
      "cell_type": "code",
      "metadata": {
        "colab": {
          "base_uri": "https://localhost:8080/"
        },
        "id": "KBCHH0454aw_",
        "outputId": "1db57a1f-9383-4ce2-cdbc-bf3a60e30d29"
      },
      "source": [
        "dfDoc.info()"
      ],
      "execution_count": 108,
      "outputs": [
        {
          "output_type": "stream",
          "text": [
            "<class 'pandas.core.frame.DataFrame'>\n",
            "RangeIndex: 1000 entries, 0 to 999\n",
            "Data columns (total 1 columns):\n",
            " #   Column    Non-Null Count  Dtype \n",
            "---  ------    --------------  ----- \n",
            " 0   Document  1000 non-null   object\n",
            "dtypes: object(1)\n",
            "memory usage: 7.9+ KB\n"
          ],
          "name": "stdout"
        }
      ]
    },
    {
      "cell_type": "markdown",
      "metadata": {
        "id": "XXJeMORi4axC"
      },
      "source": [
        "#### Second level of cleaning , Removing digits and converting datatype to Str type."
      ]
    },
    {
      "cell_type": "code",
      "metadata": {
        "id": "Oo8wtDiO4axD"
      },
      "source": [
        "dfDoc.Document = dfDoc.Document.str.replace('\\d+', '')"
      ],
      "execution_count": 109,
      "outputs": []
    },
    {
      "cell_type": "code",
      "metadata": {
        "colab": {
          "base_uri": "https://localhost:8080/",
          "height": 158
        },
        "id": "y5aYzL4L4axF",
        "outputId": "6132088a-7bc7-46db-b249-037493947918"
      },
      "source": [
        "dfDoc.loc[0,\"Document\"]"
      ],
      "execution_count": 110,
      "outputs": [
        {
          "output_type": "execute_result",
          "data": {
            "application/vnd.google.colaboratory.intrinsic+json": {
              "type": "string"
            },
            "text/plain": [
              "'  san jose  calif  â   arm acquired stream technologies  glasgow  in an effort to grow a business in paid services for devices on the internet of things  the move comes as the iot is still in an early stage but widely seen to have huge potential with services expected to be one of its hottest sectors  stream  a private company founded in   claims that its connectivity management software and services are used by   devices carrying  terabytes of traffic daily  though mainly focused on cellular  its offerings are network agnostic  also supporting lora and satellite nets carrying ip and non ip data   sponsored  learn more about computer vision for the masses  stream serves a wide variety of applications including asset tracking  smart meters  and the u k â  s national rail system  its services include support for billing and the so called embedded subscriber identity module  esim   a software based cellular id  earlier this year  arm rolled out software that it called kigen os to enable esim on its cores  arm will integrate streamâ  s products into its nascent mbed iot services  arm did not disclose how much it paid for stream  the size of streamâ  s revenues  or the size of its own nascent iot services business  the deal is likely one example of how arm is reaching far beyond the processor core sector that it dominates with encouragement from its new owner  softbank  arm already works with ibm to connect iot deployments to the ibm watson cloud and plans other such deals  â  we will build out and monetize cloud services and partner to make an open environment â   said hima mukkamala  general manager of armâ  s iot cloud services group  arm is growing a portfolio of iot services around device connectivity and management  image  arm    iot services are â  the carrot that everyone chases â   said christopher rommel  vice president of embedded research at market watcher vdc research group  inc  although rommel hadnâ  t heard of stream prior to the acquisition  he was bullish on the deal  â  arm is well positioned for this with its channel in software and tools  the challenge is walking the line between offering its own services and those of partners  it makes sense for them to go after services  but itâ  s a complex and crowded space â   armâ  s effort in iot software and services started in   when its acquired sensinode  the startup had software that arm offered for free as the mbed os supporting popular web scripting languages  but users called for better real time determinism and support for the c language  so arm reworked mbed os around the rtx kernel of kiel  he said  since then  arm has added various services to its portfolio  planting seeds for an iot market thatâ  s still in its infancy  one survey showed that most end users are still  to  years away from deploying iot  source  vdc research   the overall iot market is â  not where i would have hoped it would be five years ago â   but there are more rollouts and real work happening  the next level is moving beyond experiments â   said rommel  â  iot is just beginning to get off the ground â   said nigel chadwick  ceo of stream  â  itâ  s an amazing opportunity going forward â   â  whatâ  s exciting to us is the volume we see from customers â   iâ  m starting to see  deployments  going beyond pilots â   said mukkamala of arm  â  we sold  billion cores in the last  years and expect to sell the next  billion in the next five years into things like smart meters  where customers want an end to end solution â   â   rick merritt  silicon valley bureau chief  ee times   g  accessories  cellular  cloud computing  communications and networking systems or equipment  computers and peripherals  consumer electronics   appliances  design management  hardware development  integrated development environments  ides   internet of things  microcontroller  mobile  open source  operating systems  peripherals  programming languages  research   development  semiconductors  soc  software  wireless  wireless networking'"
            ]
          },
          "metadata": {
            "tags": []
          },
          "execution_count": 110
        }
      ]
    },
    {
      "cell_type": "markdown",
      "metadata": {
        "id": "Q176hBuG4axG"
      },
      "source": [
        "### Final level of text cleaning and tokenizing words of entire documents also using Regex to select alphabets as a final level measure."
      ]
    },
    {
      "cell_type": "code",
      "metadata": {
        "id": "-Ez37hC24axH"
      },
      "source": [
        "def tokenize_words(data):\n",
        "    data = re.sub('[^a-zA-Z]',' ',data)\n",
        "    data = data.split()\n",
        "    return data\n",
        "wordTokenize = lambda x: tokenize_words(x)"
      ],
      "execution_count": 111,
      "outputs": []
    },
    {
      "cell_type": "code",
      "metadata": {
        "id": "oEr1eNmj4axH"
      },
      "source": [
        "dfDoc.Document = dfDoc.Document.apply(wordTokenize)"
      ],
      "execution_count": 112,
      "outputs": []
    },
    {
      "cell_type": "code",
      "metadata": {
        "colab": {
          "base_uri": "https://localhost:8080/",
          "height": 237
        },
        "id": "yalZqY5D4axJ",
        "outputId": "044feb35-687f-47a4-c680-a93783df2efb"
      },
      "source": [
        "dfDoc.head(6)"
      ],
      "execution_count": 113,
      "outputs": [
        {
          "output_type": "execute_result",
          "data": {
            "text/html": [
              "<div>\n",
              "<style scoped>\n",
              "    .dataframe tbody tr th:only-of-type {\n",
              "        vertical-align: middle;\n",
              "    }\n",
              "\n",
              "    .dataframe tbody tr th {\n",
              "        vertical-align: top;\n",
              "    }\n",
              "\n",
              "    .dataframe thead th {\n",
              "        text-align: right;\n",
              "    }\n",
              "</style>\n",
              "<table border=\"1\" class=\"dataframe\">\n",
              "  <thead>\n",
              "    <tr style=\"text-align: right;\">\n",
              "      <th></th>\n",
              "      <th>Document</th>\n",
              "    </tr>\n",
              "  </thead>\n",
              "  <tbody>\n",
              "    <tr>\n",
              "      <th>0</th>\n",
              "      <td>[san, jose, calif, arm, acquired, stream, tech...</td>\n",
              "    </tr>\n",
              "    <tr>\n",
              "      <th>1</th>\n",
              "      <td>[san, francisco, semiconductor, industry, anal...</td>\n",
              "    </tr>\n",
              "    <tr>\n",
              "      <th>2</th>\n",
              "      <td>[since, the, dawn, of, the, compute, era, the,...</td>\n",
              "    </tr>\n",
              "    <tr>\n",
              "      <th>3</th>\n",
              "      <td>[san, jose, calif, the, gpp, released, a, set,...</td>\n",
              "    </tr>\n",
              "    <tr>\n",
              "      <th>4</th>\n",
              "      <td>[san, jose, calif, brainchip, described, what,...</td>\n",
              "    </tr>\n",
              "    <tr>\n",
              "      <th>5</th>\n",
              "      <td>[as, demands, for, machine, learning, grow, so...</td>\n",
              "    </tr>\n",
              "  </tbody>\n",
              "</table>\n",
              "</div>"
            ],
            "text/plain": [
              "                                            Document\n",
              "0  [san, jose, calif, arm, acquired, stream, tech...\n",
              "1  [san, francisco, semiconductor, industry, anal...\n",
              "2  [since, the, dawn, of, the, compute, era, the,...\n",
              "3  [san, jose, calif, the, gpp, released, a, set,...\n",
              "4  [san, jose, calif, brainchip, described, what,...\n",
              "5  [as, demands, for, machine, learning, grow, so..."
            ]
          },
          "metadata": {
            "tags": []
          },
          "execution_count": 113
        }
      ]
    },
    {
      "cell_type": "markdown",
      "metadata": {
        "id": "8uc-UQph4axK"
      },
      "source": [
        "#### =========================================================================================================="
      ]
    },
    {
      "cell_type": "markdown",
      "metadata": {
        "id": "Zb71Jp1z4axK"
      },
      "source": [
        "### Importing important specific natural language libraries."
      ]
    },
    {
      "cell_type": "code",
      "metadata": {
        "id": "6TcEY3y64axL"
      },
      "source": [
        "import nltk\n",
        "from nltk.tokenize import word_tokenize\n",
        "from nltk.corpus import stopwords\n",
        "from nltk.stem.wordnet import WordNetLemmatizer\n",
        "from sklearn.feature_extraction.text import TfidfVectorizer"
      ],
      "execution_count": 114,
      "outputs": []
    },
    {
      "cell_type": "code",
      "metadata": {
        "id": "Rsfl5cib4axL"
      },
      "source": [
        "# Instantiating required API's\n",
        "Wordnetlem = WordNetLemmatizer()\n",
        "tfidfVect = TfidfVectorizer(stop_words=\"english\")"
      ],
      "execution_count": 115,
      "outputs": []
    },
    {
      "cell_type": "code",
      "metadata": {
        "colab": {
          "base_uri": "https://localhost:8080/"
        },
        "id": "2-zoHqc-4axM",
        "outputId": "55656f15-fcc8-4bb6-d1a7-615759f4624a"
      },
      "source": [
        "nltk.download('stopwords')\n",
        "# Removing stop words\n",
        "sw = stopwords.words('english')\n",
        "wordsetexclude = ['asap','gonna','wanna','bro','lit','more','most','far','cheeky',\n",
        "             'uff','ceeya','on','in','and','wow','whoah',\n",
        "              'wooww','astounding','no','yes','km','mile','god','allah','jesus','jesuschrist',\n",
        "             'oh','oh god','etc','damn','needless','fine','http','www','website','dollar','co',\n",
        "             'ltd','unit','union','got','heard','nope','little','us','we','our','almighty',\n",
        "             'might','ought','buy','sell','sent','invite','a','of','the']\n",
        "for i in wordsetexclude:\n",
        "    sw.append(i)\n",
        "def remove_sw(data):\n",
        "    data = [word for word in data if word not in sw]\n",
        "    return data\n",
        "dfDoc.Document = dfDoc.Document.apply(lambda x: remove_sw(x))"
      ],
      "execution_count": 116,
      "outputs": [
        {
          "output_type": "stream",
          "text": [
            "[nltk_data] Downloading package stopwords to /root/nltk_data...\n",
            "[nltk_data]   Package stopwords is already up-to-date!\n"
          ],
          "name": "stdout"
        }
      ]
    },
    {
      "cell_type": "code",
      "metadata": {
        "colab": {
          "base_uri": "https://localhost:8080/",
          "height": 143
        },
        "id": "WZv72KPx4axN",
        "outputId": "638bcc8f-a8a6-4884-d839-ac32a9390b84"
      },
      "source": [
        "dfDoc.tail(3)"
      ],
      "execution_count": 117,
      "outputs": [
        {
          "output_type": "execute_result",
          "data": {
            "text/html": [
              "<div>\n",
              "<style scoped>\n",
              "    .dataframe tbody tr th:only-of-type {\n",
              "        vertical-align: middle;\n",
              "    }\n",
              "\n",
              "    .dataframe tbody tr th {\n",
              "        vertical-align: top;\n",
              "    }\n",
              "\n",
              "    .dataframe thead th {\n",
              "        text-align: right;\n",
              "    }\n",
              "</style>\n",
              "<table border=\"1\" class=\"dataframe\">\n",
              "  <thead>\n",
              "    <tr style=\"text-align: right;\">\n",
              "      <th></th>\n",
              "      <th>Document</th>\n",
              "    </tr>\n",
              "  </thead>\n",
              "  <tbody>\n",
              "    <tr>\n",
              "      <th>997</th>\n",
              "      <td>[go, las, vegas, last, week, ces, shame, well,...</td>\n",
              "    </tr>\n",
              "    <tr>\n",
              "      <th>998</th>\n",
              "      <td>[san, jose, calif, veteran, semiconductor, exe...</td>\n",
              "    </tr>\n",
              "    <tr>\n",
              "      <th>999</th>\n",
              "      <td>[qualcomm, automotive, redefined, event, witne...</td>\n",
              "    </tr>\n",
              "  </tbody>\n",
              "</table>\n",
              "</div>"
            ],
            "text/plain": [
              "                                              Document\n",
              "997  [go, las, vegas, last, week, ces, shame, well,...\n",
              "998  [san, jose, calif, veteran, semiconductor, exe...\n",
              "999  [qualcomm, automotive, redefined, event, witne..."
            ]
          },
          "metadata": {
            "tags": []
          },
          "execution_count": 117
        }
      ]
    },
    {
      "cell_type": "markdown",
      "metadata": {
        "id": "ZmMol27k4axO"
      },
      "source": [
        "\n",
        "\n",
        "\n",
        "#### Now moving onto some intermediate level of feature engineering part in NLP.\n",
        "\n",
        "\n",
        "\n",
        "#### Lemmatization of words to convert it into its root words."
      ]
    },
    {
      "cell_type": "code",
      "metadata": {
        "colab": {
          "base_uri": "https://localhost:8080/"
        },
        "id": "OQfj6l2m4axO",
        "outputId": "534a8cc6-8918-4002-9980-58e0ec954f7e"
      },
      "source": [
        "nltk.download('wordnet')\n",
        "def lemmatize(data):\n",
        "    data = [Wordnetlem.lemmatize(word) for word in data]\n",
        "    return data\n",
        "lemmatizWord = lambda x : lemmatize(x)\n",
        "dfDoc.Document = dfDoc.Document.apply(lemmatizWord)"
      ],
      "execution_count": 118,
      "outputs": [
        {
          "output_type": "stream",
          "text": [
            "[nltk_data] Downloading package wordnet to /root/nltk_data...\n",
            "[nltk_data]   Package wordnet is already up-to-date!\n"
          ],
          "name": "stdout"
        }
      ]
    },
    {
      "cell_type": "code",
      "metadata": {
        "colab": {
          "base_uri": "https://localhost:8080/",
          "height": 158
        },
        "id": "WkMZoxHJ4axP",
        "outputId": "4ef8d769-1e08-49fd-ad0e-65200bdc7955"
      },
      "source": [
        "\"\"\"\n",
        "Recombining word tokens back.\n",
        "\"\"\"\n",
        "def joinwords(data):\n",
        "    combined_text = ' '.join(data)\n",
        "    return combined_text\n",
        "combined = lambda x: joinwords(x)\n",
        "dfDoc.Document = dfDoc.Document.apply(combined)\n",
        "dfDoc.loc[0,\"Document\"]"
      ],
      "execution_count": 119,
      "outputs": [
        {
          "output_type": "execute_result",
          "data": {
            "application/vnd.google.colaboratory.intrinsic+json": {
              "type": "string"
            },
            "text/plain": [
              "'san jose calif arm acquired stream technology glasgow effort grow business paid service device internet thing move come iot still early stage widely seen huge potential service expected one hottest sector stream private company founded claim connectivity management software service used device carrying terabyte traffic daily though mainly focused cellular offering network agnostic also supporting lora satellite net carrying ip non ip data sponsored learn computer vision mass stream serf wide variety application including asset tracking smart meter u k national rail system service include support billing called embedded subscriber identity module esim software based cellular id earlier year arm rolled software called kigen o enable esim core arm integrate stream product nascent mbed iot service arm disclose much paid stream size stream revenue size nascent iot service business deal likely one example arm reaching beyond processor core sector dominates encouragement new owner softbank arm already work ibm connect iot deployment ibm watson cloud plan deal build monetize cloud service partner make open environment said hima mukkamala general manager arm iot cloud service group arm growing portfolio iot service around device connectivity management image arm iot service carrot everyone chase said christopher rommel vice president embedded research market watcher vdc research group inc although rommel stream prior acquisition bullish deal arm well positioned channel software tool challenge walking line offering service partner make sense go service complex crowded space arm effort iot software service started acquired sensinode startup software arm offered free mbed o supporting popular web scripting language user called better real time determinism support c language arm reworked mbed o around rtx kernel kiel said since arm added various service portfolio planting seed iot market still infancy one survey showed end user still year away deploying iot source vdc research overall iot market would hoped would five year ago rollouts real work happening next level moving beyond experiment said rommel iot beginning get ground said nigel chadwick ceo stream amazing opportunity going forward exciting volume see customer starting see deployment going beyond pilot said mukkamala arm sold billion core last year expect next billion next five year thing like smart meter customer want end end solution rick merritt silicon valley bureau chief ee time g accessory cellular cloud computing communication networking system equipment computer peripheral consumer electronics appliance design management hardware development integrated development environment ides internet thing microcontroller mobile open source operating system peripheral programming language research development semiconductor soc software wireless wireless networking'"
            ]
          },
          "metadata": {
            "tags": []
          },
          "execution_count": 119
        }
      ]
    },
    {
      "cell_type": "code",
      "metadata": {
        "id": "bJrnrgxY4axQ"
      },
      "source": [
        "# Creating a variable with document column as Unicode type.\n",
        "document = dfDoc.Document.values.astype(\"U\")"
      ],
      "execution_count": 120,
      "outputs": []
    },
    {
      "cell_type": "code",
      "metadata": {
        "colab": {
          "base_uri": "https://localhost:8080/",
          "height": 158
        },
        "id": "W5BfhOYV4axR",
        "outputId": "2025ee37-ce1d-4c18-99a2-777345e54973"
      },
      "source": [
        "document[0]"
      ],
      "execution_count": 121,
      "outputs": [
        {
          "output_type": "execute_result",
          "data": {
            "application/vnd.google.colaboratory.intrinsic+json": {
              "type": "string"
            },
            "text/plain": [
              "'san jose calif arm acquired stream technology glasgow effort grow business paid service device internet thing move come iot still early stage widely seen huge potential service expected one hottest sector stream private company founded claim connectivity management software service used device carrying terabyte traffic daily though mainly focused cellular offering network agnostic also supporting lora satellite net carrying ip non ip data sponsored learn computer vision mass stream serf wide variety application including asset tracking smart meter u k national rail system service include support billing called embedded subscriber identity module esim software based cellular id earlier year arm rolled software called kigen o enable esim core arm integrate stream product nascent mbed iot service arm disclose much paid stream size stream revenue size nascent iot service business deal likely one example arm reaching beyond processor core sector dominates encouragement new owner softbank arm already work ibm connect iot deployment ibm watson cloud plan deal build monetize cloud service partner make open environment said hima mukkamala general manager arm iot cloud service group arm growing portfolio iot service around device connectivity management image arm iot service carrot everyone chase said christopher rommel vice president embedded research market watcher vdc research group inc although rommel stream prior acquisition bullish deal arm well positioned channel software tool challenge walking line offering service partner make sense go service complex crowded space arm effort iot software service started acquired sensinode startup software arm offered free mbed o supporting popular web scripting language user called better real time determinism support c language arm reworked mbed o around rtx kernel kiel said since arm added various service portfolio planting seed iot market still infancy one survey showed end user still year away deploying iot source vdc research overall iot market would hoped would five year ago rollouts real work happening next level moving beyond experiment said rommel iot beginning get ground said nigel chadwick ceo stream amazing opportunity going forward exciting volume see customer starting see deployment going beyond pilot said mukkamala arm sold billion core last year expect next billion next five year thing like smart meter customer want end end solution rick merritt silicon valley bureau chief ee time g accessory cellular cloud computing communication networking system equipment computer peripheral consumer electronics appliance design management hardware development integrated development environment ides internet thing microcontroller mobile open source operating system peripheral programming language research development semiconductor soc software wireless wireless networking'"
            ]
          },
          "metadata": {
            "tags": []
          },
          "execution_count": 121
        }
      ]
    },
    {
      "cell_type": "code",
      "metadata": {
        "id": "u3FWau454axS"
      },
      "source": [
        "features = tfidfVect.fit_transform(document)"
      ],
      "execution_count": 122,
      "outputs": []
    },
    {
      "cell_type": "markdown",
      "metadata": {
        "id": "p8J6FcfG4axS"
      },
      "source": [
        "####            \n",
        "\n",
        "\n",
        "\n",
        "\n",
        "\n",
        "\n",
        "### Importing KMeans clustering from scikit learn library to cluster our given document"
      ]
    },
    {
      "cell_type": "code",
      "metadata": {
        "id": "FWSO0ft54axT"
      },
      "source": [
        "from sklearn.cluster import KMeans"
      ],
      "execution_count": 123,
      "outputs": []
    },
    {
      "cell_type": "code",
      "metadata": {
        "id": "bGMR4Jrd4axU"
      },
      "source": [
        "\"\"\"\n",
        "Initially taking 10 clusters.\n",
        "\"\"\"\n",
        "cluster_numbers = 12\n",
        "\n",
        "#Kmeans clustering\n",
        "modelKmeans = KMeans(n_clusters=cluster_numbers, init=\"k-means++\",max_iter=500,n_init=1)\n"
      ],
      "execution_count": 242,
      "outputs": []
    },
    {
      "cell_type": "code",
      "metadata": {
        "colab": {
          "base_uri": "https://localhost:8080/"
        },
        "id": "T6NktzV_4axU",
        "outputId": "ed4b7e53-d59d-43cf-fba6-b510753f86eb"
      },
      "source": [
        "modelKmeans.fit(features)"
      ],
      "execution_count": 243,
      "outputs": [
        {
          "output_type": "execute_result",
          "data": {
            "text/plain": [
              "KMeans(algorithm='auto', copy_x=True, init='k-means++', max_iter=500,\n",
              "       n_clusters=12, n_init=1, n_jobs=None, precompute_distances='auto',\n",
              "       random_state=None, tol=0.0001, verbose=0)"
            ]
          },
          "metadata": {
            "tags": []
          },
          "execution_count": 243
        }
      ]
    },
    {
      "cell_type": "markdown",
      "metadata": {
        "id": "UCOA8t4N4axV"
      },
      "source": [
        "\n",
        "######   \n",
        "\n",
        "\n",
        "#####   \n",
        "\n",
        "\n",
        "\n",
        "\n",
        "\n",
        "### Creating a new dataset with labels of cluster and Document column which is already a combined column of Article and Keywords"
      ]
    },
    {
      "cell_type": "code",
      "metadata": {
        "id": "WSm7lONu4axW"
      },
      "source": [
        "# Kmeans Cluster\n",
        "df[\"Clusters\"] = modelKmeans.labels_\n"
      ],
      "execution_count": 244,
      "outputs": []
    },
    {
      "cell_type": "code",
      "metadata": {
        "colab": {
          "base_uri": "https://localhost:8080/",
          "height": 771
        },
        "id": "B-p7Ji9Y4axX",
        "outputId": "c69b6b0e-f667-427d-8454-5e88d862da9c"
      },
      "source": [
        "# Creating a Dataframe called dfclustered which has two clustering labels\n",
        "select_features = [\"Article\",\"Keywords\",\"Clusters\"]\n",
        "dfclustered = df[select_features]\n",
        "dfclustered.tail(23)"
      ],
      "execution_count": 245,
      "outputs": [
        {
          "output_type": "execute_result",
          "data": {
            "text/html": [
              "<div>\n",
              "<style scoped>\n",
              "    .dataframe tbody tr th:only-of-type {\n",
              "        vertical-align: middle;\n",
              "    }\n",
              "\n",
              "    .dataframe tbody tr th {\n",
              "        vertical-align: top;\n",
              "    }\n",
              "\n",
              "    .dataframe thead th {\n",
              "        text-align: right;\n",
              "    }\n",
              "</style>\n",
              "<table border=\"1\" class=\"dataframe\">\n",
              "  <thead>\n",
              "    <tr style=\"text-align: right;\">\n",
              "      <th></th>\n",
              "      <th>Article</th>\n",
              "      <th>Keywords</th>\n",
              "      <th>Clusters</th>\n",
              "    </tr>\n",
              "  </thead>\n",
              "  <tbody>\n",
              "    <tr>\n",
              "      <th>977</th>\n",
              "      <td>Semiconductor and electronics companies are g...</td>\n",
              "      <td>Electronic Instrumentation Or Test, Test &amp; Mea...</td>\n",
              "      <td>4</td>\n",
              "    </tr>\n",
              "    <tr>\n",
              "      <th>978</th>\n",
              "      <td>SAN FRANCISCOâIt has taken far longer and c...</td>\n",
              "      <td>Events, ICs, Research &amp; Development, Semicondu...</td>\n",
              "      <td>4</td>\n",
              "    </tr>\n",
              "    <tr>\n",
              "      <th>979</th>\n",
              "      <td>SAN FRANCISCO â Design starts for artificia...</td>\n",
              "      <td>NaN</td>\n",
              "      <td>4</td>\n",
              "    </tr>\n",
              "    <tr>\n",
              "      <th>980</th>\n",
              "      <td>Iâm heading to Yosemite for a long weekend ...</td>\n",
              "      <td>Analog ICs, Avago Technologies, Communications...</td>\n",
              "      <td>7</td>\n",
              "    </tr>\n",
              "    <tr>\n",
              "      <th>981</th>\n",
              "      <td>TORONTOÂ â Emerging use cases are revealin...</td>\n",
              "      <td>Aerospace, Automotive, Defense, Encryption, Go...</td>\n",
              "      <td>4</td>\n",
              "    </tr>\n",
              "    <tr>\n",
              "      <th>982</th>\n",
              "      <td>Infineonâs sensor brand and family XENSIVTM...</td>\n",
              "      <td>NaN</td>\n",
              "      <td>4</td>\n",
              "    </tr>\n",
              "    <tr>\n",
              "      <th>983</th>\n",
              "      <td>The 3GPP is the organization that has been ma...</td>\n",
              "      <td>Research &amp; Development</td>\n",
              "      <td>4</td>\n",
              "    </tr>\n",
              "    <tr>\n",
              "      <th>984</th>\n",
              "      <td>I was taught engineering in a very traditiona...</td>\n",
              "      <td>Academia, Computers And Peripherals, Industry ...</td>\n",
              "      <td>4</td>\n",
              "    </tr>\n",
              "    <tr>\n",
              "      <th>985</th>\n",
              "      <td>I have a lot of respect for cables and connec...</td>\n",
              "      <td>Connectors/Sockets, EELife, Electronic Instrum...</td>\n",
              "      <td>4</td>\n",
              "    </tr>\n",
              "    <tr>\n",
              "      <th>986</th>\n",
              "      <td>For decades scientists, writers and filmmake...</td>\n",
              "      <td>Advanced Technology, Communications And Networ...</td>\n",
              "      <td>4</td>\n",
              "    </tr>\n",
              "    <tr>\n",
              "      <th>987</th>\n",
              "      <td>TORONTO â The first thing that comes to min...</td>\n",
              "      <td>NaN</td>\n",
              "      <td>4</td>\n",
              "    </tr>\n",
              "    <tr>\n",
              "      <th>988</th>\n",
              "      <td>BARCELONA â Federal Communication Commissi...</td>\n",
              "      <td>5g, Europe, Geography, Legal Issues, Mwc, Wire...</td>\n",
              "      <td>4</td>\n",
              "    </tr>\n",
              "    <tr>\n",
              "      <th>989</th>\n",
              "      <td>As the AI hardware landscape starts to become...</td>\n",
              "      <td>AI, artificial intelligence, Design Tools (EDA...</td>\n",
              "      <td>4</td>\n",
              "    </tr>\n",
              "    <tr>\n",
              "      <th>990</th>\n",
              "      <td>Earlier this year, I had written about a farm...</td>\n",
              "      <td>Computers And Peripherals, Consumer Electronic...</td>\n",
              "      <td>4</td>\n",
              "    </tr>\n",
              "    <tr>\n",
              "      <th>991</th>\n",
              "      <td>Every product goes through four phases: creat...</td>\n",
              "      <td>Automotive, autonomous vehicles, industry 4.0,...</td>\n",
              "      <td>3</td>\n",
              "    </tr>\n",
              "    <tr>\n",
              "      <th>992</th>\n",
              "      <td>SAN JOSE, Calif. â Google and Baidu collab...</td>\n",
              "      <td>Advanced Technology, Asic, Associations, Cloud...</td>\n",
              "      <td>4</td>\n",
              "    </tr>\n",
              "    <tr>\n",
              "      <th>993</th>\n",
              "      <td>PARIS â  Wave Computing has set its sights...</td>\n",
              "      <td>Asic, Cloud Computing, Computers And Periphera...</td>\n",
              "      <td>4</td>\n",
              "    </tr>\n",
              "    <tr>\n",
              "      <th>994</th>\n",
              "      <td>China’s Geely Auto Group will deploy Mobileye...</td>\n",
              "      <td>ADAS, AI, autonomous vehicles, edge AI, Lidar,...</td>\n",
              "      <td>4</td>\n",
              "    </tr>\n",
              "    <tr>\n",
              "      <th>995</th>\n",
              "      <td>LONDON â Researchers from the University...</td>\n",
              "      <td>Academia, Computers And Peripherals, Consumer ...</td>\n",
              "      <td>1</td>\n",
              "    </tr>\n",
              "    <tr>\n",
              "      <th>996</th>\n",
              "      <td>The MIPI Alliance recently released MIPI A-PH...</td>\n",
              "      <td>ADAS, Automotive, Interface, Lidar, Microcontr...</td>\n",
              "      <td>4</td>\n",
              "    </tr>\n",
              "    <tr>\n",
              "      <th>997</th>\n",
              "      <td>If you didnât go to Las VegasÂ last week...</td>\n",
              "      <td>Associations, Audio, Ces, Commercial, Computer...</td>\n",
              "      <td>4</td>\n",
              "    </tr>\n",
              "    <tr>\n",
              "      <th>998</th>\n",
              "      <td>SAN JOSE, Calif. â A veteran semiconductor ...</td>\n",
              "      <td>Advanced Technology, Career/Profession, Commun...</td>\n",
              "      <td>4</td>\n",
              "    </tr>\n",
              "    <tr>\n",
              "      <th>999</th>\n",
              "      <td>Qualcommâs “Automotive Redefined” wasnât ...</td>\n",
              "      <td>ADAS, Automotive, autonomous vehicles</td>\n",
              "      <td>4</td>\n",
              "    </tr>\n",
              "  </tbody>\n",
              "</table>\n",
              "</div>"
            ],
            "text/plain": [
              "                                               Article  ... Clusters\n",
              "977   Semiconductor and electronics companies are g...  ...        4\n",
              "978   SAN FRANCISCOâIt has taken far longer and c...  ...        4\n",
              "979   SAN FRANCISCO â Design starts for artificia...  ...        4\n",
              "980   Iâm heading to Yosemite for a long weekend ...  ...        7\n",
              "981    TORONTOÂ â Emerging use cases are revealin...  ...        4\n",
              "982   Infineonâs sensor brand and family XENSIVTM...  ...        4\n",
              "983   The 3GPP is the organization that has been ma...  ...        4\n",
              "984   I was taught engineering in a very traditiona...  ...        4\n",
              "985   I have a lot of respect for cables and connec...  ...        4\n",
              "986    For decades scientists, writers and filmmake...  ...        4\n",
              "987   TORONTO â The first thing that comes to min...  ...        4\n",
              "988    BARCELONA â Federal Communication Commissi...  ...        4\n",
              "989   As the AI hardware landscape starts to become...  ...        4\n",
              "990   Earlier this year, I had written about a farm...  ...        4\n",
              "991   Every product goes through four phases: creat...  ...        3\n",
              "992    SAN JOSE, Calif. â Google and Baidu collab...  ...        4\n",
              "993    PARIS â  Wave Computing has set its sights...  ...        4\n",
              "994   China’s Geely Auto Group will deploy Mobileye...  ...        4\n",
              "995      LONDON â Researchers from the University...  ...        1\n",
              "996   The MIPI Alliance recently released MIPI A-PH...  ...        4\n",
              "997      If you didnât go to Las VegasÂ last week...  ...        4\n",
              "998   SAN JOSE, Calif. â A veteran semiconductor ...  ...        4\n",
              "999   Qualcommâs “Automotive Redefined” wasnât ...  ...        4\n",
              "\n",
              "[23 rows x 3 columns]"
            ]
          },
          "metadata": {
            "tags": []
          },
          "execution_count": 245
        }
      ]
    },
    {
      "cell_type": "code",
      "metadata": {
        "colab": {
          "base_uri": "https://localhost:8080/"
        },
        "id": "rYIAkazZ4axY",
        "outputId": "bded6303-d804-4e93-ba70-5cf206f79cd5"
      },
      "source": [
        "len(dfclustered)"
      ],
      "execution_count": 246,
      "outputs": [
        {
          "output_type": "execute_result",
          "data": {
            "text/plain": [
              "1000"
            ]
          },
          "metadata": {
            "tags": []
          },
          "execution_count": 246
        }
      ]
    },
    {
      "cell_type": "code",
      "metadata": {
        "colab": {
          "base_uri": "https://localhost:8080/"
        },
        "id": "WgXpPscz4axa",
        "outputId": "83911e97-96fc-4fb1-bf0a-23f9db40344d"
      },
      "source": [
        "modelKmeans.cluster_centers_.argsort()[:,::-1]"
      ],
      "execution_count": 247,
      "outputs": [
        {
          "output_type": "execute_result",
          "data": {
            "text/plain": [
              "array([[ 2238, 13970,  9748, ..., 13399, 13400,     0],\n",
              "       [11051, 13293, 11097, ..., 13379, 13380,     0],\n",
              "       [18569, 12915,  9425, ..., 13401, 13402,     0],\n",
              "       ...,\n",
              "       [15507, 13049,  1782, ..., 13285, 13286,     0],\n",
              "       [10141,  7577,  1311, ..., 13405, 13406,     0],\n",
              "       [ 6111,  3419, 17828, ..., 13354, 13355,     0]])"
            ]
          },
          "metadata": {
            "tags": []
          },
          "execution_count": 247
        }
      ]
    },
    {
      "cell_type": "code",
      "metadata": {
        "id": "KU2Q1QFM4axb"
      },
      "source": [
        "# Finding feature terms on each cluster by checking centroids or central gravity of each cluster.\n",
        "# which will gives the insights about how the machine seives out the feature terms for each clusters \n",
        "# in KMeans clustering.\n",
        "#print(\"Cluster centroids: \\n\")\n",
        "order_centroids = modelKmeans.cluster_centers_.argsort()[:,::-1]\n",
        "terms = tfidfVect.get_feature_names()\n",
        "\n",
        "wordfeatureset = [] # List of word sets\n",
        "clusterset = [] # List of cluster of words.\n",
        "\n",
        "wordfeatures = 200\n",
        "for i in range(cluster_numbers):\n",
        "    #print(\"Cluster %d:\" %i)\n",
        "    for j in order_centroids[i, :wordfeatures]:\n",
        "        #print(\"%s\" %terms[j])\n",
        "        wordfeatureset.append(terms[j])\n",
        "   \n",
        "    clusterset.append(wordfeatureset)\n",
        "    #print(\"----------\")\n"
      ],
      "execution_count": 248,
      "outputs": []
    },
    {
      "cell_type": "code",
      "metadata": {
        "id": "m18gJhJl4axb"
      },
      "source": [
        "# Creating a HashMap out of Labels\n",
        "clustersmap = dict()\n",
        "for i in range(0,wordfeatures):\n",
        "    #print(i*wordfeatures)\n",
        "    #Mapping cluster list of words to Cluster HashMap\n",
        "    clustersmap[\"Cluster: \"+str(i)] = [clusterset[1][0+i*wordfeatures: wordfeatures+i*wordfeatures]]\n",
        "    \n",
        "    "
      ],
      "execution_count": 249,
      "outputs": []
    },
    {
      "cell_type": "code",
      "metadata": {
        "colab": {
          "base_uri": "https://localhost:8080/",
          "height": 222
        },
        "id": "_cn-iGJY4axd",
        "outputId": "98951c44-1a71-4fc2-b89d-1335859eccc6"
      },
      "source": [
        "\n",
        "dfclustermap = pd.DataFrame(clustersmap,index=[\"cluster\"])\n",
        "dfclustermap = dfclustermap.iloc[:,0:cluster_numbers]\n",
        "dfclustermap"
      ],
      "execution_count": 250,
      "outputs": [
        {
          "output_type": "execute_result",
          "data": {
            "text/html": [
              "<div>\n",
              "<style scoped>\n",
              "    .dataframe tbody tr th:only-of-type {\n",
              "        vertical-align: middle;\n",
              "    }\n",
              "\n",
              "    .dataframe tbody tr th {\n",
              "        vertical-align: top;\n",
              "    }\n",
              "\n",
              "    .dataframe thead th {\n",
              "        text-align: right;\n",
              "    }\n",
              "</style>\n",
              "<table border=\"1\" class=\"dataframe\">\n",
              "  <thead>\n",
              "    <tr style=\"text-align: right;\">\n",
              "      <th></th>\n",
              "      <th>Cluster: 0</th>\n",
              "      <th>Cluster: 1</th>\n",
              "      <th>Cluster: 2</th>\n",
              "      <th>Cluster: 3</th>\n",
              "      <th>Cluster: 4</th>\n",
              "      <th>Cluster: 5</th>\n",
              "      <th>Cluster: 6</th>\n",
              "      <th>Cluster: 7</th>\n",
              "      <th>Cluster: 8</th>\n",
              "      <th>Cluster: 9</th>\n",
              "      <th>Cluster: 10</th>\n",
              "      <th>Cluster: 11</th>\n",
              "    </tr>\n",
              "  </thead>\n",
              "  <tbody>\n",
              "    <tr>\n",
              "      <th>cluster</th>\n",
              "      <td>[broms, protobricks, kid, lego, circuit, crowd...</td>\n",
              "      <td>[metabolite, pixel, micro, epoxy, pdms, cmos, ...</td>\n",
              "      <td>[uber, patel, ized, design, bangalore, service...</td>\n",
              "      <td>[software, auto, platform, ota, car, automotiv...</td>\n",
              "      <td>[said, technology, chip, ai, data, semiconduct...</td>\n",
              "      <td>[ic, percent, insight, market, firm, forecast,...</td>\n",
              "      <td>[av, driver, truck, waymo, robotaxi, aurora, t...</td>\n",
              "      <td>[qualcomm, broadcom, apple, tan, acquisition, ...</td>\n",
              "      <td>[dram, price, quarter, dramexchange, percent, ...</td>\n",
              "      <td>[sale, percent, billion, semiconductor, semi, ...</td>\n",
              "      <td>[level, good, autonomous, project, addict, ent...</td>\n",
              "      <td>[eta, compute, tensai, ecm, synaptics, katana,...</td>\n",
              "    </tr>\n",
              "  </tbody>\n",
              "</table>\n",
              "</div>"
            ],
            "text/plain": [
              "                                                Cluster: 0  ...                                        Cluster: 11\n",
              "cluster  [broms, protobricks, kid, lego, circuit, crowd...  ...  [eta, compute, tensai, ecm, synaptics, katana,...\n",
              "\n",
              "[1 rows x 12 columns]"
            ]
          },
          "metadata": {
            "tags": []
          },
          "execution_count": 250
        }
      ]
    },
    {
      "cell_type": "code",
      "metadata": {
        "colab": {
          "base_uri": "https://localhost:8080/"
        },
        "id": "nbHhiY914axd",
        "outputId": "6ed1bb58-0a6e-472f-bb2e-61e1581a93b8"
      },
      "source": [
        "\"\"\"\n",
        "Transposed dataframe\n",
        "\"\"\"\n",
        "dfMap = dfclustermap.transpose()\n",
        "dfMap.info()"
      ],
      "execution_count": 251,
      "outputs": [
        {
          "output_type": "stream",
          "text": [
            "<class 'pandas.core.frame.DataFrame'>\n",
            "Index: 12 entries, Cluster: 0 to Cluster: 11\n",
            "Data columns (total 1 columns):\n",
            " #   Column   Non-Null Count  Dtype \n",
            "---  ------   --------------  ----- \n",
            " 0   cluster  12 non-null     object\n",
            "dtypes: object(1)\n",
            "memory usage: 512.0+ bytes\n"
          ],
          "name": "stdout"
        }
      ]
    },
    {
      "cell_type": "code",
      "metadata": {
        "colab": {
          "base_uri": "https://localhost:8080/",
          "height": 426
        },
        "id": "owNri_td4axf",
        "outputId": "c081586b-c63c-4fa7-ff08-8c8c6fd969a9"
      },
      "source": [
        "dfMap"
      ],
      "execution_count": 252,
      "outputs": [
        {
          "output_type": "execute_result",
          "data": {
            "text/html": [
              "<div>\n",
              "<style scoped>\n",
              "    .dataframe tbody tr th:only-of-type {\n",
              "        vertical-align: middle;\n",
              "    }\n",
              "\n",
              "    .dataframe tbody tr th {\n",
              "        vertical-align: top;\n",
              "    }\n",
              "\n",
              "    .dataframe thead th {\n",
              "        text-align: right;\n",
              "    }\n",
              "</style>\n",
              "<table border=\"1\" class=\"dataframe\">\n",
              "  <thead>\n",
              "    <tr style=\"text-align: right;\">\n",
              "      <th></th>\n",
              "      <th>cluster</th>\n",
              "    </tr>\n",
              "  </thead>\n",
              "  <tbody>\n",
              "    <tr>\n",
              "      <th>Cluster: 0</th>\n",
              "      <td>[broms, protobricks, kid, lego, circuit, crowd...</td>\n",
              "    </tr>\n",
              "    <tr>\n",
              "      <th>Cluster: 1</th>\n",
              "      <td>[metabolite, pixel, micro, epoxy, pdms, cmos, ...</td>\n",
              "    </tr>\n",
              "    <tr>\n",
              "      <th>Cluster: 2</th>\n",
              "      <td>[uber, patel, ized, design, bangalore, service...</td>\n",
              "    </tr>\n",
              "    <tr>\n",
              "      <th>Cluster: 3</th>\n",
              "      <td>[software, auto, platform, ota, car, automotiv...</td>\n",
              "    </tr>\n",
              "    <tr>\n",
              "      <th>Cluster: 4</th>\n",
              "      <td>[said, technology, chip, ai, data, semiconduct...</td>\n",
              "    </tr>\n",
              "    <tr>\n",
              "      <th>Cluster: 5</th>\n",
              "      <td>[ic, percent, insight, market, firm, forecast,...</td>\n",
              "    </tr>\n",
              "    <tr>\n",
              "      <th>Cluster: 6</th>\n",
              "      <td>[av, driver, truck, waymo, robotaxi, aurora, t...</td>\n",
              "    </tr>\n",
              "    <tr>\n",
              "      <th>Cluster: 7</th>\n",
              "      <td>[qualcomm, broadcom, apple, tan, acquisition, ...</td>\n",
              "    </tr>\n",
              "    <tr>\n",
              "      <th>Cluster: 8</th>\n",
              "      <td>[dram, price, quarter, dramexchange, percent, ...</td>\n",
              "    </tr>\n",
              "    <tr>\n",
              "      <th>Cluster: 9</th>\n",
              "      <td>[sale, percent, billion, semiconductor, semi, ...</td>\n",
              "    </tr>\n",
              "    <tr>\n",
              "      <th>Cluster: 10</th>\n",
              "      <td>[level, good, autonomous, project, addict, ent...</td>\n",
              "    </tr>\n",
              "    <tr>\n",
              "      <th>Cluster: 11</th>\n",
              "      <td>[eta, compute, tensai, ecm, synaptics, katana,...</td>\n",
              "    </tr>\n",
              "  </tbody>\n",
              "</table>\n",
              "</div>"
            ],
            "text/plain": [
              "                                                       cluster\n",
              "Cluster: 0   [broms, protobricks, kid, lego, circuit, crowd...\n",
              "Cluster: 1   [metabolite, pixel, micro, epoxy, pdms, cmos, ...\n",
              "Cluster: 2   [uber, patel, ized, design, bangalore, service...\n",
              "Cluster: 3   [software, auto, platform, ota, car, automotiv...\n",
              "Cluster: 4   [said, technology, chip, ai, data, semiconduct...\n",
              "Cluster: 5   [ic, percent, insight, market, firm, forecast,...\n",
              "Cluster: 6   [av, driver, truck, waymo, robotaxi, aurora, t...\n",
              "Cluster: 7   [qualcomm, broadcom, apple, tan, acquisition, ...\n",
              "Cluster: 8   [dram, price, quarter, dramexchange, percent, ...\n",
              "Cluster: 9   [sale, percent, billion, semiconductor, semi, ...\n",
              "Cluster: 10  [level, good, autonomous, project, addict, ent...\n",
              "Cluster: 11  [eta, compute, tensai, ecm, synaptics, katana,..."
            ]
          },
          "metadata": {
            "tags": []
          },
          "execution_count": 252
        }
      ]
    },
    {
      "cell_type": "code",
      "metadata": {
        "id": "Ytaa9H4r4axf"
      },
      "source": [
        "# Recombining word tokens back into perfect sentences\n",
        "dfMap.cluster = dfMap.cluster.apply(combined)"
      ],
      "execution_count": 253,
      "outputs": []
    },
    {
      "cell_type": "code",
      "metadata": {
        "colab": {
          "base_uri": "https://localhost:8080/",
          "height": 158
        },
        "id": "7_CZLK2h4axf",
        "outputId": "dd7fb715-f4b5-4b47-9c1d-570d0e56ec4e"
      },
      "source": [
        "dfMap.loc[\"Cluster: 1\",\"cluster\"]"
      ],
      "execution_count": 254,
      "outputs": [
        {
          "output_type": "execute_result",
          "data": {
            "application/vnd.google.colaboratory.intrinsic+json": {
              "type": "string"
            },
            "text/plain": [
              "'metabolite pixel micro epoxy pdms cmos sensor chip array mm fluid handheld device cancer disease active prostate tubing casting simultaneously quantify block heart glasgow surface detect paper avoiding multiple liquid height using reaction carefully university placed android damage attack black showing single tablet associated area described serum infarction democratisation myocardial elastomer bioelectronics samadhan cumming quadrant patil sylgard dow reagent profilometry magnified pipettable visualisation metabolomics decanted polydimethylsiloxane prognosis biomarkers corning urine researcher measure harden assay sacrificial mixture silicone chronic biosensors micrograph smartphone bonder cavity curing stroke photodiode diagnosis resin austria secondly pump complex virtuoso confined progression flip instantaneous selective pathway fabricate inexpensive mixing assistive separation investigator diagnostic developed medicine ring plastic ideally scratch ceramic divided treatment keen pad triple overnight fabricated subsequent simultaneous protected portable patient dod designed translation microsystems discrete pair operated accurately offer introduce shape zone nitin dahad laboratory travel approximately breakthrough suited corporation measuring handling vital exciting kit caused delay consists computation closer school cadence transducer david correspondent sample helping academia app maximum protect wall partnered professor london serve carrier reducing bringing act rapid author capable body optical temperature useful study expertise detection published contact effective based principal track method simple physical alternative cell rapidly particularly taken handle'"
            ]
          },
          "metadata": {
            "tags": []
          },
          "execution_count": 254
        }
      ]
    },
    {
      "cell_type": "code",
      "metadata": {
        "colab": {
          "base_uri": "https://localhost:8080/"
        },
        "id": "k53crUq-4axg",
        "outputId": "d920ca69-a139-4000-ca92-029a2c0782b5"
      },
      "source": [
        "def printcols(dfcolumns):\n",
        "    for v,i in enumerate(dfcolumns):\n",
        "        print(\"cluster: \"+ str(v))\n",
        "        print(str(i))\n",
        "printcols(dfMap.cluster)"
      ],
      "execution_count": 255,
      "outputs": [
        {
          "output_type": "stream",
          "text": [
            "cluster: 0\n",
            "broms protobricks kid lego circuit crowdfunding indiegogo kickstarter brick digital board campaign said dropped seven kit dramatically year ago engineering project custom begin belief carte macrofab amatuer gravitate programing joesph apiece logic rise concept resonate course snap stimulate aug price earnest conceived flooded houston discovering analog manufacturer teach lowered electronics like mathematics product joy building possible inventor corresponding presenting incorporating college priced platform compatibility day regardless iteration la incorporate printing tuesday broadly bar pro working stem child pipeline design education accelerating demonstrate raise niche cost compatible originally changed written discussed shipping buying work novel planet movement availability prototype began initially nature offered ee reducing boost changing mcgrath dylan individual understanding charge science manufacturing initial june competitor capital lack old expects medical trying stage training advance created idea bring funding taking learn ability launched instead increased interview started goal maker addition given field chain developing size editor content electronic lead developed access enable time potential supply iot small component expected lot engineer chief model called number related help offer solution hardware way software based market twitterfacebooklinkedin semiconductor share finalist finalize fell final fellis finalized filled fin filtering filtered filter file filmmaker fili filming filmed film filing filling filler filippo filed fibre\n",
            "cluster: 1\n",
            "metabolite pixel micro epoxy pdms cmos sensor chip array mm fluid handheld device cancer disease active prostate tubing casting simultaneously quantify block heart glasgow surface detect paper avoiding multiple liquid height using reaction carefully university placed android damage attack black showing single tablet associated area described serum infarction democratisation myocardial elastomer bioelectronics samadhan cumming quadrant patil sylgard dow reagent profilometry magnified pipettable visualisation metabolomics decanted polydimethylsiloxane prognosis biomarkers corning urine researcher measure harden assay sacrificial mixture silicone chronic biosensors micrograph smartphone bonder cavity curing stroke photodiode diagnosis resin austria secondly pump complex virtuoso confined progression flip instantaneous selective pathway fabricate inexpensive mixing assistive separation investigator diagnostic developed medicine ring plastic ideally scratch ceramic divided treatment keen pad triple overnight fabricated subsequent simultaneous protected portable patient dod designed translation microsystems discrete pair operated accurately offer introduce shape zone nitin dahad laboratory travel approximately breakthrough suited corporation measuring handling vital exciting kit caused delay consists computation closer school cadence transducer david correspondent sample helping academia app maximum protect wall partnered professor london serve carrier reducing bringing act rapid author capable body optical temperature useful study expertise detection published contact effective based principal track method simple physical alternative cell rapidly particularly taken handle\n",
            "cluster: 2\n",
            "uber patel ized design bangalore service semiconductor morocco customizations sankalp samir breakout brazil vietnam swath outsourced company cheaply geographically ripe tipping customize india motivated day centric dramatic slowly people standard separately said new seeking involves clara intensive standalone outsourcing sharing santa ride texas app management moment application followed diverse instrument socs expanding opening location mid chip product manufacturing defined rise market away talk increasingly creating wide node sector trend faster ability efficiency noted half executive hard deliver moving industry started trade calif given chain international ip europe growing specific soc create core event going demand supply think center intel change lot model chief provide point today come hardware advanced work business ic software need world development technology fighter finalizing fighting finalized figaro finally finalize figure fight filming figured filtering film filmmaker filling filter filler filtered filled filippo fin figuring final filing finalist filmed filed file filamentary filament fili zyss fig ferrying female fenced fend fending fendy feng feol fermi ferocious ferociously ferrari ferreira ferric ferrite ferro felton felt fellowship fefets feedback feeder feeding feel feeling fefet feigning fellow fel felda feldman feline fell fellis ferroelectric fertile fifth fertility fiat fiber fibre fico fiction fictional fiddle fidelity fido field fielded fielding\n",
            "cluster: 3\n",
            "software auto platform ota car automotive oems vehicle infotainment phase saas update av cybersecurity industry tttech ecus segment bev use ecu cloud connected important model tier tech supplier cost column telematics domain tesla ada technology apps growing excelfore aws motionwise function android juliussen impact usually safety carplay smartphone oem new printing company operating egil service key defined cockpit trend poledna decade ihs business high spac data recall markit create client used multiple bevs autonomous leading apple functionality hardware carmaker variety revenue sale provider ev driver development figure customer table combustion growth elektrobit harman application developing time product amazon esync disruption google currently likely perspective importance display ford vpa dealer qnx advantage market emerging middleware make better future based startup air need pay engine called integration opportunity long includes martinez architecture factor hyundai code ipo brand year content develop royalty computing different lot aptiv network icar otonomo battery provide similar fewer bird rapidly pull saving control required expertise category testing price presentation change example version repair million maintenance capability driving virtual source significant continue information hypervisor regulation river warranty caros region production built assistant strong manage interface internet click patch included icev unit functional advance available mobility rapid chip including desirable\n",
            "cluster: 4\n",
            "said technology chip ai data semiconductor company design year industry new china network time apple market device memory power software iot development research manufacturing sensor arm vehicle product security cloud application automotive networking need use hardware processor test world learning business performance intel core high nm service based wireless computer source supply like electronics standard mobile car computing machine thing billion engineer management million process using share consumer ic people cost solution communication startup edge silicon equipment make customer advanced chain level project work digital group image end used support way amd ee event center model battery peripheral platform industrial safety processing server including big ip open internet smart architecture qualcomm board component soc page low embedded driver twitterfacebooklinkedin production today driving energy global vision according state different program material tool challenge neural issue deep case president engineering camera ceo control come trade chinese percent long government storage signal example handset critical autonomous rf report growth accelerator demand offer google day user week tech announced vendor key want algorithm amazon future area manufacturer deal set say ghz human working help generation good team samsung speed effort analog acquisition range appliance expected intelligence cellular investment term change robot lot space problem\n",
            "cluster: 5\n",
            "ic percent insight market firm forecast sale fable year billion dram semiconductor chip automotive according growth capex grow cagr total nand account analog expected expects increase ibs spending memory research foundry said electronics growing annual smartphone global china category share flash mcgrath supplier dylan sector reach chinese fastest iot manufacturing francisco vehicle largest based predicts estimate projected capital report projection accounted design editor scottsdale shipment percentage compound european continue increased chief rate san segment combined smic apple car rise samsung asp twitterfacebooklinkedin broader spender time vendor trimmed communication ranked selling worth ee application rising convenience average japanese idms oppo vivo new sponsored watcher recent device south noted major tracker jumped quarterly ariz content biggest company mcclean computer including price autonomous buoyed city unit peripheral anemic idm overall industry worldwide infrastructure purpose predicted reported connected ramp registering consumer million jump fabs power logic fab equipment period reaching previous consecutive advancement meter drove second product huawei learn saying volume hefty end pure corp increasing safety grew brand ride join maker size specific microcontrollers tsmc transportation serial remain marketshare xiamoi bbk international remains taiwan accounting korean shaved shrewd high steady slipped government added continuing commanding expanding hynix reboots quantifying ada leading sk rapidly\n",
            "cluster: 6\n",
            "av driver truck waymo robotaxi aurora testing autonomous mobileye safety mile software vehicle platform uber human atg road driving autox good robotaxis company cruise service automotive crash disengagement california nuro delivery million sensor public baidu china use ike technology tusimple safe vc fleet test car camera case driverless city apollo nhtsa argo data zoox aws life motional industry egil auto oems investment weride future ada table amazon leading december lidar permit year started acquisition rand cooperation ai question saving key distraction operation pony report transportation gm focused guide information likely logistics juliussen trucking nvidia experience lyft kilometer save word multiple ride using toyota billion yandex battery received bmw available drug win customer column phoenix employee leader radar route development announced figure vw paid plus partner ev deployment intel inceptio dmv sidewalk bev skill start source passenger including pandemic issue perception like event time included enlarge lot experimental traffic einride publicly cpuc people fixed strategy red currently better speed phil activity probably teleoperation planning mobility drive supplier think political answer garage click tesla performance policy rem developing work hailing aptiv threshold safely operational validate operator group virtual valuation look koopman april making used maas advance total shaping factor regulation ce guangzhou\n",
            "cluster: 7\n",
            "qualcomm broadcom apple tan acquisition nxp cfius billion said bid patent company board letter stockholder royalty quarter semiconductor merger modem acquire deal dispute stock suit hock offer iphone antitrust statement ftc china regulator proposal review takeover court vote fiscal legal rival price licensing san report order comm saying chip iphones year director financial march shareholder regulatory ruling national sale reported jacob francisco street appliance wednesday ec wall meeting consumer attempt business proxy krause income investigation commission according engaged chief journal contract agreement payment baseband security european trade million ic approval largest hostile electronics percent peripheral time share ipads cellular huawei mollenkopf foreign value pay intel analyst mcgrath paid argument shah fuzhou trump dylan proposed wireless manufacturing computer networking itc filed net chinese product practice month issue ceo executive concern tax relationship dated communication lte recent day action position fined customer ee eu tactic fine related member international firm lawsuit design fate unanimously candidate decision reduced agency case including editor decide federal jan later committee paul avago model chairman history multiple global president cut supplier reuters leader undervalues tom added given doubt cite korea counsel market complete united make immaterial leadership rf potentially issued comment fight activist mobile competition battle latest\n",
            "cluster: 8\n",
            "dram price quarter dramexchange percent market wu year fourth said demand matas capacity decline insight sale firm sadana amid ic increase pricing chip research micron server supply according forecast memory trendforce booming mobile season growth expected pc holiday smartphones contract content semiconductor avril electronics average francisco shortage time appliance industry outlook expansion high mcgrath softening dylan expects grow san persist cycle likely computer spot peripheral grown serial downturn strong flash bust crunch drop consumer manufacturing going sliding overall product improves compared chief boom center design nand editor taipei track despite output technology higher future share trend lower partnered pendulum supplier segment tight indicator samsung twitterfacebooklinkedin purley combined statement growing persisted continual loom shipment helping ee hynix weak fueled rise sk diversified gap bit seen outgrowing swing particularly pace appears consecutive record history soft regain risen established ramp warned giant dropped near flat whopping ahead begun held distant increased data facebook fall added seasonal headwind director resulted application brian telephone large revenue allocate rising constrained climbed strain lifted consolidation requirement difficulty condition currently new immediate long healthy evolving amazon gartner arrival limited characterized consistently pretty yield projected mb continuing production rate gaming propel adjust beginning possibly google bigger limit process sub\n",
            "cluster: 9\n",
            "sale percent billion semiconductor semi year billing spending quarter month equipment sia wsts compared according growth forecast market increase fab chip record trade neuffer average said association basis china tool region increased expected john america consecutive francisco north july organization november sequential iphone rise american totaled manocha reach grow global time february san mcgrath sequentially dylan manufacturing decline apple industry statement statistic ajit strong total japan ic major ceo revenue compiled annual category research fourth wafer october gartner president editor second declined press regional straight group pace chief expects europe korea pacific design reported grew south projected pool construction report march cook set asia memory january june high product silicon ee peripheral shipment vendor fabs mark reached december computer manufacturer data largest world additional continuing posted monthly share nearly remain analyst continues twitterfacebooklinkedin modest half semicon ahead cowan spender august reaching experienced firm exceeded earnings higher moving figure number remained selling recent upward strongest million company west seaj slipped remains represented japanese decrease quarterly new cool polished digit curtain giddy double seasonal previous fiscal tim price period taiwan content planet electronics expectation samsung marked th recommended posting continue dram outlook watcher geography pandemic projecting shortage appliance end greater boosted expect\n",
            "cluster: 10\n",
            "level good autonomous project addict enthralled away concerning trunk completing reason pundit anytime techno ignore optimistic hopeful hierarchy liability grocery driving car cheap test priced observation skeptical bug definition leave suspect interaction desktop assessment equally involves come sort hear prediction sound closely room source ranging instrumentation software electronics understanding promise eelife legal researcher soon difference com hope involved capacity measurement self variety forecast fully block complex function experience really electronic embedded especially transportation needed building time know vendor report think vehicle component lot issue future automotive people long performance cost end high need market new year extension finalist finalized finalizing finally finance financed financial financially financials financing finder finding fine fined finely finalize final finest explained fili filing filippo filled filler filling film filmed filming filmmaker filter filtered filtering explaining fin finer finetune file expire fiorina fira fired fireeye expired firefighter firefighting finnish firefly firehosed firestorm firewall expiration firework fintech finlayson finfet finisar finfets finger fingering explainable fingerprint explainability explain finland finish finished finisher finishing finite finkbeiner filed filamentary firm fetch fertilizer festival exploding festooned exploded fet fetched fertile feud feuding fever feverish feverishly fewer fertility ferrying ffc fermi exploitation exploit fending fendy feng feol ferocious ferroelectric ferociously ferrari ferreira\n",
            "cluster: 11\n",
            "eta compute tensai ecm synaptics katana flow impulse tewksbury compiler ai edge sensor core optimized haddad board ganesan software company code dsp evaluation network multi soc silicon tool ml startup tensorflow voltage iot said run complete image power datasets coin includes neural application node development customer achieved frequency pain middleware solution real model chip coolflux low energy embedded zoo ultra device processor firmware enabled developer hybrid design data intended chain dual budget battery away scaling technique arm launched time generate satish tensaiflow hardware partnership market really module pivoted able aspect right ease streamlines shelby zach versioning compiles cvfs semir heterogeneous optimizing handle cortex optimization end mlops platform target processing ops differentiates optimize ted wrap optimizes rtos family told inference synergy onnx smart gyroscope visualization plan nxp raised drag framework validated push combined unique problem provisioning manually patented binary kind maturity tooling accelerometer start embedding executed million adjust microphone existing magnitude used efficiency india nice collecting variable option modest cloud mcu collection add comprehensive harder interface joint need continuous use today fusion inch intelligence clock tiny business according count kit supported staff library specific proprietary director sharing officer generation addressing round capable architecture capture management bluetooth february ee including pre certain\n"
          ],
          "name": "stdout"
        }
      ]
    },
    {
      "cell_type": "markdown",
      "metadata": {
        "id": "QM0_WmkkABuz"
      },
      "source": [
        ""
      ]
    },
    {
      "cell_type": "markdown",
      "metadata": {
        "id": "lSfaWbiWAGcJ"
      },
      "source": [
        "##      \n",
        "\n",
        "##  \n",
        "\n",
        "\n",
        "\n",
        "\n",
        "\n",
        "\n",
        "### Generating Titles for Each cluster using 'Hugging Face' Pegasus model"
      ]
    },
    {
      "cell_type": "code",
      "metadata": {
        "id": "Eb7CxBY2AQT-"
      },
      "source": [
        "import torch\n",
        "from transformers import PegasusForConditionalGeneration, PegasusTokenizer\n",
        "model_name = 'google/pegasus-xsum'\n",
        "# model_name = 'google/pegasus-cnn_dailymail'\n",
        "torch_device = 'cuda' if torch.cuda.is_available() else 'cpu'\n",
        "tokenizer = PegasusTokenizer.from_pretrained(model_name)\n",
        "model = PegasusForConditionalGeneration.from_pretrained(model_name).to(torch_device)\n",
        "\n"
      ],
      "execution_count": 263,
      "outputs": []
    },
    {
      "cell_type": "code",
      "metadata": {
        "id": "UC1WxKxxA3eW"
      },
      "source": [
        "def get_response(dfColumns):\n",
        "  for index, data in enumerate(dfColumns):\n",
        "    print(\"cluster: \"+ str(index)+\" Title\")\n",
        "    input_text = [str(data)]\n",
        "    batch = tokenizer(input_text,truncation=True,padding='longest',max_length=26, return_tensors=\"pt\").to(torch_device)\n",
        "    translated = model.generate(**batch,max_length=26)\n",
        "    tgt_text = tokenizer.batch_decode(translated, skip_special_tokens=True)\n",
        "    print(tgt_text[0])\n",
        "  # return tgt_text"
      ],
      "execution_count": 268,
      "outputs": []
    },
    {
      "cell_type": "code",
      "metadata": {
        "colab": {
          "base_uri": "https://localhost:8080/"
        },
        "id": "gsGk1oq5CcLU",
        "outputId": "53b99ba1-971c-4f1d-f1f0-9166ece06e5c"
      },
      "source": [
        "get_response(dfMap.cluster)"
      ],
      "execution_count": 269,
      "outputs": [
        {
          "output_type": "stream",
          "text": [
            "cluster: 0 Title\n",
            "All images are copyrighted.\n",
            "cluster: 1 Title\n",
            "Images courtesy of AFP, EPA, Getty Images and Reuters\n",
            "cluster: 2 Title\n",
            "A look at some of the top technology stories of the week.\n",
            "cluster: 3 Title\n",
            ".\n",
            "cluster: 4 Title\n",
            "The world's largest memory chip maker, Samsung Electronics, says it will invest more than $5bn in research and development\n",
            "cluster: 5 Title\n",
            "A look at some of the key stories in the technology sector this week.\n",
            "cluster: 6 Title\n",
            ".\n",
            "cluster: 7 Title\n",
            ".\n",
            "cluster: 8 Title\n",
            "dram price quarter dramexchange percent market wu year fourth\n",
            "cluster: 9 Title\n",
            ".\n",
            "cluster: 10 Title\n",
            ".\n",
            "cluster: 11 Title\n",
            "A team of researchers at the University of Bristol have developed a new way to measure the amount of time it takes for a\n"
          ],
          "name": "stdout"
        }
      ]
    },
    {
      "cell_type": "markdown",
      "metadata": {
        "id": "FjFX-zCtGX-R"
      },
      "source": [
        "## Out of 12 clusters finally managed to generate Titles for 7 clusters through abstractive text summarization. Using pegasus through specific fine tuning and feature engineering we can generate more , accurate titles.\n"
      ]
    },
    {
      "cell_type": "code",
      "metadata": {
        "id": "qQFwga19G0G4"
      },
      "source": [
        ""
      ],
      "execution_count": null,
      "outputs": []
    }
  ]
}